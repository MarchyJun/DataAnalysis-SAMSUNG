{
 "cells": [
  {
   "cell_type": "code",
   "execution_count": 1,
   "metadata": {},
   "outputs": [],
   "source": [
    "import numpy as np\n",
    "import pandas as pd\n",
    "import seaborn as sns\n",
    "import matplotlib.pyplot as plt\n",
    "\n",
    "from imblearn.over_sampling import SMOTE\n",
    "from sklearn.model_selection import train_test_split\n",
    "from sklearn.metrics import mean_squared_error\n",
    "from sklearn.metrics import accuracy_score, recall_score\n",
    "\n",
    "from sklearn.linear_model import LinearRegression\n",
    "\n",
    "from sklearn.metrics import roc_curve, auc\n",
    "from sklearn.metrics import roc_auc_score"
   ]
  },
  {
   "cell_type": "code",
   "execution_count": 2,
   "metadata": {},
   "outputs": [],
   "source": [
    "import matplotlib\n",
    "matplotlib.rc('font', family='NanumBarunGothic')\n",
    "plt.rcParams['axes.unicode_minus'] = False"
   ]
  },
  {
   "cell_type": "code",
   "execution_count": 3,
   "metadata": {},
   "outputs": [],
   "source": [
    "pd.set_option('display.max_columns', 500)\n",
    "pd.set_option('display.max_rows', 500)"
   ]
  },
  {
   "cell_type": "code",
   "execution_count": 4,
   "metadata": {},
   "outputs": [],
   "source": [
    "### 데이터 불러오기 ###\n",
    "df = pd.read_csv('Data/교통사망사고정보/original_kor.csv',encoding='CP949')\n",
    "#df.drop(['temp1','temp2','temp3','발생분변환'],axis=1,inplace=True)\n",
    "\n",
    "# 충남 연기군 -> 세종 세종 변경 (12년 7월)\n",
    "df.loc[df.발생지시군구=='연기군','발생지시군구']='세종'\n",
    "df.loc[(df.발생지시도=='충남')&(df.발생지시군구=='세종'),'발생지시도']='세종'\n",
    "\n",
    "# 충북 청원군 -> 충북 청주시 변경 (14년 7월)\n",
    "df.loc[df.발생지시군구=='청원군','발생지시군구']='청주시'\n",
    "\n",
    "# 총부상자수 변수\n",
    "df['총부상자수']=df.사상자수 - df.사망자수"
   ]
  },
  {
   "cell_type": "markdown",
   "metadata": {},
   "source": [
    "# 기상데이터"
   ]
  },
  {
   "cell_type": "markdown",
   "metadata": {},
   "source": [
    "여러 신문기사, 연구결과에 의하면, 날씨도 교통사고에 큰 영향을 미친다고 함. 이에 특히 교통사고의 피해정도가 높은 날씨가 있는지 날씨별로 사고위험도를 계산해봄"
   ]
  },
  {
   "cell_type": "code",
   "execution_count": 5,
   "metadata": {},
   "outputs": [
    {
     "data": {
      "text/html": [
       "<div>\n",
       "<style scoped>\n",
       "    .dataframe tbody tr th:only-of-type {\n",
       "        vertical-align: middle;\n",
       "    }\n",
       "\n",
       "    .dataframe tbody tr th {\n",
       "        vertical-align: top;\n",
       "    }\n",
       "\n",
       "    .dataframe thead th {\n",
       "        text-align: right;\n",
       "    }\n",
       "</style>\n",
       "<table border=\"1\" class=\"dataframe\">\n",
       "  <thead>\n",
       "    <tr style=\"text-align: right;\">\n",
       "      <th></th>\n",
       "      <th>분류</th>\n",
       "      <th>12</th>\n",
       "      <th>13</th>\n",
       "      <th>14</th>\n",
       "      <th>15</th>\n",
       "      <th>16</th>\n",
       "      <th>평균</th>\n",
       "    </tr>\n",
       "  </thead>\n",
       "  <tbody>\n",
       "    <tr>\n",
       "      <th>0</th>\n",
       "      <td>합계</td>\n",
       "      <td>4.91</td>\n",
       "      <td>4.86</td>\n",
       "      <td>4.78</td>\n",
       "      <td>4.77</td>\n",
       "      <td>4.74</td>\n",
       "      <td>4.81</td>\n",
       "    </tr>\n",
       "    <tr>\n",
       "      <th>1</th>\n",
       "      <td>기타</td>\n",
       "      <td>4.78</td>\n",
       "      <td>4.61</td>\n",
       "      <td>4.31</td>\n",
       "      <td>4.46</td>\n",
       "      <td>4.49</td>\n",
       "      <td>4.53</td>\n",
       "    </tr>\n",
       "    <tr>\n",
       "      <th>2</th>\n",
       "      <td>맑음</td>\n",
       "      <td>4.85</td>\n",
       "      <td>4.82</td>\n",
       "      <td>4.74</td>\n",
       "      <td>4.73</td>\n",
       "      <td>4.70</td>\n",
       "      <td>4.77</td>\n",
       "    </tr>\n",
       "    <tr>\n",
       "      <th>3</th>\n",
       "      <td>비</td>\n",
       "      <td>5.17</td>\n",
       "      <td>5.09</td>\n",
       "      <td>5.07</td>\n",
       "      <td>4.95</td>\n",
       "      <td>4.91</td>\n",
       "      <td>5.04</td>\n",
       "    </tr>\n",
       "    <tr>\n",
       "      <th>4</th>\n",
       "      <td>흐림</td>\n",
       "      <td>5.23</td>\n",
       "      <td>5.12</td>\n",
       "      <td>5.04</td>\n",
       "      <td>5.04</td>\n",
       "      <td>5.12</td>\n",
       "      <td>5.11</td>\n",
       "    </tr>\n",
       "    <tr>\n",
       "      <th>5</th>\n",
       "      <td>눈</td>\n",
       "      <td>5.54</td>\n",
       "      <td>5.87</td>\n",
       "      <td>5.29</td>\n",
       "      <td>5.54</td>\n",
       "      <td>5.68</td>\n",
       "      <td>5.58</td>\n",
       "    </tr>\n",
       "    <tr>\n",
       "      <th>6</th>\n",
       "      <td>안개</td>\n",
       "      <td>6.46</td>\n",
       "      <td>6.74</td>\n",
       "      <td>6.10</td>\n",
       "      <td>7.39</td>\n",
       "      <td>7.17</td>\n",
       "      <td>6.77</td>\n",
       "    </tr>\n",
       "  </tbody>\n",
       "</table>\n",
       "</div>"
      ],
      "text/plain": [
       "   분류    12    13    14    15    16    평균\n",
       "0  합계  4.91  4.86  4.78  4.77  4.74  4.81\n",
       "1  기타  4.78  4.61  4.31  4.46  4.49  4.53\n",
       "2  맑음  4.85  4.82  4.74  4.73  4.70  4.77\n",
       "3   비  5.17  5.09  5.07  4.95  4.91  5.04\n",
       "4  흐림  5.23  5.12  5.04  5.04  5.12  5.11\n",
       "5   눈  5.54  5.87  5.29  5.54  5.68  5.58\n",
       "6  안개  6.46  6.74  6.10  7.39  7.17  6.77"
      ]
     },
     "execution_count": 5,
     "metadata": {},
     "output_type": "execute_result"
    }
   ],
   "source": [
    "df_sun = pd.read_csv('Data/추가데이터/safe_sun.csv')\n",
    "df_sun"
   ]
  },
  {
   "cell_type": "code",
   "execution_count": 6,
   "metadata": {},
   "outputs": [
    {
     "data": {
      "text/html": [
       "<div>\n",
       "<style scoped>\n",
       "    .dataframe tbody tr th:only-of-type {\n",
       "        vertical-align: middle;\n",
       "    }\n",
       "\n",
       "    .dataframe tbody tr th {\n",
       "        vertical-align: top;\n",
       "    }\n",
       "\n",
       "    .dataframe thead th {\n",
       "        text-align: right;\n",
       "    }\n",
       "</style>\n",
       "<table border=\"1\" class=\"dataframe\">\n",
       "  <thead>\n",
       "    <tr style=\"text-align: right;\">\n",
       "      <th></th>\n",
       "      <th>분류</th>\n",
       "      <th>12</th>\n",
       "      <th>13</th>\n",
       "      <th>14</th>\n",
       "      <th>15</th>\n",
       "      <th>16</th>\n",
       "      <th>평균</th>\n",
       "      <th>차이</th>\n",
       "    </tr>\n",
       "  </thead>\n",
       "  <tbody>\n",
       "    <tr>\n",
       "      <th>0</th>\n",
       "      <td>합계</td>\n",
       "      <td>4.91</td>\n",
       "      <td>4.86</td>\n",
       "      <td>4.78</td>\n",
       "      <td>4.77</td>\n",
       "      <td>4.74</td>\n",
       "      <td>4.81</td>\n",
       "      <td>0.00</td>\n",
       "    </tr>\n",
       "    <tr>\n",
       "      <th>1</th>\n",
       "      <td>기타</td>\n",
       "      <td>4.78</td>\n",
       "      <td>4.61</td>\n",
       "      <td>4.31</td>\n",
       "      <td>4.46</td>\n",
       "      <td>4.49</td>\n",
       "      <td>4.53</td>\n",
       "      <td>-0.28</td>\n",
       "    </tr>\n",
       "    <tr>\n",
       "      <th>2</th>\n",
       "      <td>맑음</td>\n",
       "      <td>4.85</td>\n",
       "      <td>4.82</td>\n",
       "      <td>4.74</td>\n",
       "      <td>4.73</td>\n",
       "      <td>4.70</td>\n",
       "      <td>4.77</td>\n",
       "      <td>-0.04</td>\n",
       "    </tr>\n",
       "    <tr>\n",
       "      <th>3</th>\n",
       "      <td>비</td>\n",
       "      <td>5.17</td>\n",
       "      <td>5.09</td>\n",
       "      <td>5.07</td>\n",
       "      <td>4.95</td>\n",
       "      <td>4.91</td>\n",
       "      <td>5.04</td>\n",
       "      <td>0.23</td>\n",
       "    </tr>\n",
       "    <tr>\n",
       "      <th>4</th>\n",
       "      <td>흐림</td>\n",
       "      <td>5.23</td>\n",
       "      <td>5.12</td>\n",
       "      <td>5.04</td>\n",
       "      <td>5.04</td>\n",
       "      <td>5.12</td>\n",
       "      <td>5.11</td>\n",
       "      <td>0.30</td>\n",
       "    </tr>\n",
       "    <tr>\n",
       "      <th>5</th>\n",
       "      <td>눈</td>\n",
       "      <td>5.54</td>\n",
       "      <td>5.87</td>\n",
       "      <td>5.29</td>\n",
       "      <td>5.54</td>\n",
       "      <td>5.68</td>\n",
       "      <td>5.58</td>\n",
       "      <td>0.77</td>\n",
       "    </tr>\n",
       "    <tr>\n",
       "      <th>6</th>\n",
       "      <td>안개</td>\n",
       "      <td>6.46</td>\n",
       "      <td>6.74</td>\n",
       "      <td>6.10</td>\n",
       "      <td>7.39</td>\n",
       "      <td>7.17</td>\n",
       "      <td>6.77</td>\n",
       "      <td>1.96</td>\n",
       "    </tr>\n",
       "  </tbody>\n",
       "</table>\n",
       "</div>"
      ],
      "text/plain": [
       "   분류    12    13    14    15    16    평균    차이\n",
       "0  합계  4.91  4.86  4.78  4.77  4.74  4.81  0.00\n",
       "1  기타  4.78  4.61  4.31  4.46  4.49  4.53 -0.28\n",
       "2  맑음  4.85  4.82  4.74  4.73  4.70  4.77 -0.04\n",
       "3   비  5.17  5.09  5.07  4.95  4.91  5.04  0.23\n",
       "4  흐림  5.23  5.12  5.04  5.04  5.12  5.11  0.30\n",
       "5   눈  5.54  5.87  5.29  5.54  5.68  5.58  0.77\n",
       "6  안개  6.46  6.74  6.10  7.39  7.17  6.77  1.96"
      ]
     },
     "execution_count": 6,
     "metadata": {},
     "output_type": "execute_result"
    }
   ],
   "source": [
    "df_sun['차이']=df_sun.평균-4.81\n",
    "df_sun"
   ]
  },
  {
   "cell_type": "code",
   "execution_count": 7,
   "metadata": {},
   "outputs": [
    {
     "name": "stderr",
     "output_type": "stream",
     "text": [
      "/Library/Frameworks/Python.framework/Versions/3.7/lib/python3.7/site-packages/matplotlib/font_manager.py:1241: UserWarning: findfont: Font family ['NanumBarunGothic'] not found. Falling back to DejaVu Sans.\n",
      "  (prop.get_family(), self.defaultFamily[fontext]))\n"
     ]
    },
    {
     "data": {
      "image/png": "[encoded data removed]",
      "text/plain": [
       "<Figure size 432x288 with 1 Axes>"
      ]
     },
     "metadata": {
      "needs_background": "light"
     },
     "output_type": "display_data"
    }
   ],
   "source": [
    "ind = np.arange(df_sun.shape[0]-2)\n",
    "\n",
    "plt.bar(ind, df_sun.차이[2:])\n",
    "plt.xticks(ind, np.array(df_sun.분류[2:]));"
   ]
  },
  {
   "cell_type": "markdown",
   "metadata": {},
   "source": [
    "전체 평균 위험도인 4.81과의 차이를 보면, 안개낀 날 사고들의 사고위험도는 2정도 더 높은 6.77이고, 눈내리는 날 사고들의 사고위험도는 0.75정도 더 높은 5.58정도이다.      \n",
    "               \n",
    "이에 특히 사고가 났을때 피해가 높은 날씨가 있을 것이라고 판단해서, 시군구별 평균 강수량, 평균 강우량, 평균 안개일수를 찾아서 변수로 넣고자 했음. 하지만 기상청 데이터가 시군구가 아닌 시도 단위로만 데이터를 제공하는 것 같아서 구하지 못했음. 시도 단위는 너무 넓어서, 특정 지역의 기상특징을 잘 잡아내지 못해서 시도단위의 날씨 관련 변수는 의미 없다고 생각."
   ]
  },
  {
   "cell_type": "markdown",
   "metadata": {},
   "source": [
    "# 도로 데이터"
   ]
  },
  {
   "cell_type": "markdown",
   "metadata": {},
   "source": [
    "대형교통사고들은 주로 차량평균속도가 높은 고속도로나 큰 도로에서 발생하지 않을까 생각. 그래서 도로별 사고위험도를 계산해봄."
   ]
  },
  {
   "cell_type": "code",
   "execution_count": 8,
   "metadata": {},
   "outputs": [
    {
     "data": {
      "text/html": [
       "<div>\n",
       "<style scoped>\n",
       "    .dataframe tbody tr th:only-of-type {\n",
       "        vertical-align: middle;\n",
       "    }\n",
       "\n",
       "    .dataframe tbody tr th {\n",
       "        vertical-align: top;\n",
       "    }\n",
       "\n",
       "    .dataframe thead th {\n",
       "        text-align: right;\n",
       "    }\n",
       "</style>\n",
       "<table border=\"1\" class=\"dataframe\">\n",
       "  <thead>\n",
       "    <tr style=\"text-align: right;\">\n",
       "      <th></th>\n",
       "      <th>도로유형</th>\n",
       "      <th>2012</th>\n",
       "      <th>2013</th>\n",
       "      <th>2014</th>\n",
       "      <th>2015</th>\n",
       "      <th>2016</th>\n",
       "      <th>평균</th>\n",
       "    </tr>\n",
       "  </thead>\n",
       "  <tbody>\n",
       "    <tr>\n",
       "      <th>0</th>\n",
       "      <td>합계</td>\n",
       "      <td>4.91</td>\n",
       "      <td>4.86</td>\n",
       "      <td>4.78</td>\n",
       "      <td>4.77</td>\n",
       "      <td>4.74</td>\n",
       "      <td>4.81</td>\n",
       "    </tr>\n",
       "    <tr>\n",
       "      <th>1</th>\n",
       "      <td>기타</td>\n",
       "      <td>4.00</td>\n",
       "      <td>3.97</td>\n",
       "      <td>3.87</td>\n",
       "      <td>3.85</td>\n",
       "      <td>3.80</td>\n",
       "      <td>3.90</td>\n",
       "    </tr>\n",
       "    <tr>\n",
       "      <th>2</th>\n",
       "      <td>특별광역시도</td>\n",
       "      <td>4.60</td>\n",
       "      <td>4.59</td>\n",
       "      <td>4.53</td>\n",
       "      <td>4.50</td>\n",
       "      <td>4.47</td>\n",
       "      <td>4.64</td>\n",
       "    </tr>\n",
       "    <tr>\n",
       "      <th>3</th>\n",
       "      <td>시도</td>\n",
       "      <td>4.82</td>\n",
       "      <td>4.81</td>\n",
       "      <td>4.78</td>\n",
       "      <td>4.73</td>\n",
       "      <td>4.74</td>\n",
       "      <td>4.78</td>\n",
       "    </tr>\n",
       "    <tr>\n",
       "      <th>4</th>\n",
       "      <td>지방도</td>\n",
       "      <td>5.34</td>\n",
       "      <td>5.29</td>\n",
       "      <td>5.12</td>\n",
       "      <td>5.18</td>\n",
       "      <td>5.12</td>\n",
       "      <td>5.21</td>\n",
       "    </tr>\n",
       "    <tr>\n",
       "      <th>5</th>\n",
       "      <td>일반국도</td>\n",
       "      <td>6.19</td>\n",
       "      <td>6.22</td>\n",
       "      <td>6.00</td>\n",
       "      <td>5.94</td>\n",
       "      <td>5.70</td>\n",
       "      <td>6.01</td>\n",
       "    </tr>\n",
       "    <tr>\n",
       "      <th>6</th>\n",
       "      <td>고속국도</td>\n",
       "      <td>8.30</td>\n",
       "      <td>8.25</td>\n",
       "      <td>8.10</td>\n",
       "      <td>7.99</td>\n",
       "      <td>7.87</td>\n",
       "      <td>8.10</td>\n",
       "    </tr>\n",
       "  </tbody>\n",
       "</table>\n",
       "</div>"
      ],
      "text/plain": [
       "     도로유형  2012  2013  2014  2015  2016    평균\n",
       "0      합계  4.91  4.86  4.78  4.77  4.74  4.81\n",
       "1      기타  4.00  3.97  3.87  3.85  3.80  3.90\n",
       "2  특별광역시도  4.60  4.59  4.53  4.50  4.47  4.64\n",
       "3      시도  4.82  4.81  4.78  4.73  4.74  4.78\n",
       "4     지방도  5.34  5.29  5.12  5.18  5.12  5.21\n",
       "5    일반국도  6.19  6.22  6.00  5.94  5.70  6.01\n",
       "6    고속국도  8.30  8.25  8.10  7.99  7.87  8.10"
      ]
     },
     "execution_count": 8,
     "metadata": {},
     "output_type": "execute_result"
    }
   ],
   "source": [
    "df_도로=pd.read_csv('Data/추가데이터/safe_road.csv')\n",
    "df_도로"
   ]
  },
  {
   "cell_type": "code",
   "execution_count": 9,
   "metadata": {},
   "outputs": [
    {
     "data": {
      "text/html": [
       "<div>\n",
       "<style scoped>\n",
       "    .dataframe tbody tr th:only-of-type {\n",
       "        vertical-align: middle;\n",
       "    }\n",
       "\n",
       "    .dataframe tbody tr th {\n",
       "        vertical-align: top;\n",
       "    }\n",
       "\n",
       "    .dataframe thead th {\n",
       "        text-align: right;\n",
       "    }\n",
       "</style>\n",
       "<table border=\"1\" class=\"dataframe\">\n",
       "  <thead>\n",
       "    <tr style=\"text-align: right;\">\n",
       "      <th></th>\n",
       "      <th>도로유형</th>\n",
       "      <th>차이</th>\n",
       "    </tr>\n",
       "  </thead>\n",
       "  <tbody>\n",
       "    <tr>\n",
       "      <th>2</th>\n",
       "      <td>특별광역시도</td>\n",
       "      <td>-0.17</td>\n",
       "    </tr>\n",
       "    <tr>\n",
       "      <th>3</th>\n",
       "      <td>시도</td>\n",
       "      <td>-0.03</td>\n",
       "    </tr>\n",
       "    <tr>\n",
       "      <th>4</th>\n",
       "      <td>지방도</td>\n",
       "      <td>0.40</td>\n",
       "    </tr>\n",
       "    <tr>\n",
       "      <th>5</th>\n",
       "      <td>일반국도</td>\n",
       "      <td>1.20</td>\n",
       "    </tr>\n",
       "    <tr>\n",
       "      <th>6</th>\n",
       "      <td>고속국도</td>\n",
       "      <td>3.29</td>\n",
       "    </tr>\n",
       "  </tbody>\n",
       "</table>\n",
       "</div>"
      ],
      "text/plain": [
       "     도로유형    차이\n",
       "2  특별광역시도 -0.17\n",
       "3      시도 -0.03\n",
       "4     지방도  0.40\n",
       "5    일반국도  1.20\n",
       "6    고속국도  3.29"
      ]
     },
     "execution_count": 9,
     "metadata": {},
     "output_type": "execute_result"
    }
   ],
   "source": [
    "df_도로['차이']=df_도로.평균-4.81\n",
    "temp = df_도로[['도로유형','차이']]\n",
    "temp = temp[2:]\n",
    "temp"
   ]
  },
  {
   "cell_type": "code",
   "execution_count": 10,
   "metadata": {},
   "outputs": [
    {
     "data": {
      "image/png": "[encoded data removed]",
      "text/plain": [
       "<Figure size 432x288 with 1 Axes>"
      ]
     },
     "metadata": {
      "needs_background": "light"
     },
     "output_type": "display_data"
    }
   ],
   "source": [
    "ind = np.arange(temp.shape[0])\n",
    "\n",
    "plt.bar(ind,temp.차이)\n",
    "plt.xticks(ind, np.array(temp.도로유형));"
   ]
  },
  {
   "cell_type": "markdown",
   "metadata": {},
   "source": [
    "전체 평균 위험도인 4.81과의 차이를 보면, 고속도로에서 발생하는 사고들의 사고위험도는 3.29정도 더 높은 8.1이고, 일반국도에서 발생하는 사고들의 사고위험도는 1.25정도 더 높은 6.01정도이다.      \n",
    "               \n",
    "이에 특히 사고가 났을때 피해가 높은 고속국도는 시군구별 고속국도길이를 찾아서 변수로 넣고자 함."
   ]
  },
  {
   "cell_type": "code",
   "execution_count": 12,
   "metadata": {},
   "outputs": [],
   "source": [
    "# df_high = pd.read_csv('highway.csv',encoding='CP949')\n",
    "# df_high.fillna(0,inplace=True)\n",
    "\n",
    "# df_high"
   ]
  },
  {
   "cell_type": "markdown",
   "metadata": {},
   "source": [
    "이 데이터를 기존 train data에 합치는 작업은 희준님이 해주셨습니다. "
   ]
  }
 ],
 "metadata": {
  "kernelspec": {
   "display_name": "Python 3",
   "language": "python",
   "name": "python3"
  },
  "language_info": {
   "codemirror_mode": {
    "name": "ipython",
    "version": 3
   },
   "file_extension": ".py",
   "mimetype": "text/x-python",
   "name": "python",
   "nbconvert_exporter": "python",
   "pygments_lexer": "ipython3",
   "version": "3.7.3"
  }
 },
 "nbformat": 4,
 "nbformat_minor": 2
}
