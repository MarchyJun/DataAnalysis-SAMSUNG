{
 "cells": [
  {
   "cell_type": "code",
   "execution_count": 1,
   "metadata": {},
   "outputs": [],
   "source": [
    "import numpy as np\n",
    "import pandas as pd\n",
    "import seaborn as sns\n",
    "import matplotlib.pyplot as plt\n",
    "\n",
    "from imblearn.over_sampling import SMOTE\n",
    "from sklearn.model_selection import train_test_split\n",
    "from sklearn.metrics import mean_squared_error\n",
    "from sklearn.metrics import accuracy_score, recall_score\n",
    "\n",
    "from sklearn.linear_model import LinearRegression\n",
    "\n",
    "from sklearn.metrics import roc_curve, auc\n",
    "from sklearn.metrics import roc_auc_score"
   ]
  },
  {
   "cell_type": "code",
   "execution_count": 2,
   "metadata": {},
   "outputs": [],
   "source": [
    "import matplotlib\n",
    "matplotlib.rc('font', family='NanumBarunGothic')\n",
    "plt.rcParams['axes.unicode_minus'] = False"
   ]
  },
  {
   "cell_type": "code",
   "execution_count": 19,
   "metadata": {},
   "outputs": [],
   "source": [
    "plt.rc('font', family='NanumGothicOTF')"
   ]
  },
  {
   "cell_type": "code",
   "execution_count": 3,
   "metadata": {},
   "outputs": [],
   "source": [
    "pd.set_option('display.max_columns', 500)\n",
    "pd.set_option('display.max_rows', 500)"
   ]
  },
  {
   "cell_type": "code",
   "execution_count": 4,
   "metadata": {},
   "outputs": [],
   "source": [
    "### 데이터 불러오기 ###\n",
    "df = pd.read_csv('Data/교통사망사고정보/original_kor.csv',encoding='CP949')\n",
    "#df.drop(['temp1','temp2','temp3','발생분변환'],axis=1,inplace=True)\n",
    "\n",
    "# 충남 연기군 -> 세종 세종 변경 (12년 7월)\n",
    "df.loc[df.발생지시군구=='연기군','발생지시군구']='세종'\n",
    "df.loc[(df.발생지시도=='충남')&(df.발생지시군구=='세종'),'발생지시도']='세종'\n",
    "\n",
    "# 충북 청원군 -> 충북 청주시 변경 (14년 7월)\n",
    "df.loc[df.발생지시군구=='청원군','발생지시군구']='청주시'\n",
    "\n",
    "# 총부상자수 변수\n",
    "df['총부상자수']=df.사상자수 - df.사망자수\n",
    "\n",
    "# 사고피해정도 변수\n",
    "df['사고피해정도']= df.부상신고자수 + (2 * df.경상자수) + (3 * df.중상자수) + (4 * df.사망자수)"
   ]
  },
  {
   "cell_type": "markdown",
   "metadata": {},
   "source": [
    "# 사고위험도"
   ]
  },
  {
   "cell_type": "markdown",
   "metadata": {},
   "source": [
    "경기도지역 통계자료에 보면, 교통사고 위험도라는 지표가 존재합니다.     \n",
    "             \n",
    "각 지역별로 다음을 계산.         \n",
    "(사망자수*12 + 부상자수*3)/교통사고건수            \n",
    "       \n",
    "사망자수에 가중치를 더 주고 교통사고 건수로 나눴기때문에, 각 지역별로 교통사고가 발생했을 때 인명피해가 어느정도 나는지를 비교할 수 있을 것이라고 생각했습니다.\n",
    "         \n",
    "그런데 다른 지역에서는 이 지표에 관한 자료를 찾기 힘들어서, 구하는 식을 조금 변형해서 train data에 사용해보기로 했습니다.    \n",
    "원래 지표의 분모에는 교통사고건수가 들어가는데, train data에서는 전체 교통사고 건수가 아닌 교통사망사고 건수를 구할 수 있으니, 분모를 교통사망사고건수로 넣고 계산해보기로 했습니다.     \n",
    "            \n",
    "이때 단순 지역별 사고 위험도만 계산하지 말고 train data에서 주어진 여러 변수들의 조합과 관련된 사고 위험도들을 계산하여, 사고 위험도가 높은 여러 조건들을 만들어 보고자 합니다.\n",
    "예를들어, 요일x주야 별로 사고위험도1을 측정, 당사자종별 조합별로 사고위험도2를 측정한 결과, 토요일 낮에 발생하는 사고들이 사고위험도1이 높고, 승합차-승합차 조합에서 사고위험도2가 높게 나타났다고 하면, 어떤 교통사고가 토요일 낮에 승합차 승합차끼리 발생했으면, 사고위험도 합이 매우 높으니 대형 교통사고일 확률이 조금 높지 않을까 생각했습니다.     "
   ]
  },
  {
   "cell_type": "markdown",
   "metadata": {},
   "source": [
    "그런데 사고 피해자들 수치를 이용해서 위험도라는 변수를 새로 만드니까, 이 변수를 이용해서 다시 피해자들 수치를 예측하면 답을 알고 수치를 예측하는 것과 같아서 train set안에서 overfitting 될 가능성이 높다고 생각한다. 이에 애초에 train set을 train_train, train_test set으로 나눈 후, train_train set 데이터만 이용해서 이 위험도를 측정한 후, 이를 train_test set에도 적용시켜서 위험도가 높은 사고일수록 실제 피해가 크게 나타나는지를 확인해보고자 함.  "
   ]
  },
  {
   "cell_type": "code",
   "execution_count": 5,
   "metadata": {},
   "outputs": [
    {
     "data": {
      "text/plain": [
       "Index(['발생년', '발생년월일시', '발생분', '주야', '요일', '사망자수', '사상자수', '중상자수', '경상자수',\n",
       "       '부상신고자수', '발생지시도', '발생지시군구', '사고유형_대분류', '사고유형_중분류', '사고유형', '법규위반_대분류',\n",
       "       '법규위반', '도로형태_대분류', '도로형태', '당사자종별_1당_대분류', '당사자종별_1당', '당사자종별_2당_대분류',\n",
       "       '당사자종별_2당', '발생위치X_UTMK', '발생위치Y_UTMK', '경도', '위도', '총부상자수', '사고피해정도'],\n",
       "      dtype='object')"
      ]
     },
     "execution_count": 5,
     "metadata": {},
     "output_type": "execute_result"
    }
   ],
   "source": [
    "df.columns"
   ]
  },
  {
   "cell_type": "code",
   "execution_count": 6,
   "metadata": {},
   "outputs": [],
   "source": [
    "X = df[['주야', '요일','사망자수', '사상자수', '중상자수', '경상자수', '부상신고자수','총부상자수', '발생지시도', '발생지시군구', '사고유형_대분류', '사고유형_중분류', '법규위반', '도로형태_대분류', '도로형태', '당사자종별_1당_대분류',\n",
    "       '당사자종별_2당_대분류']]\n",
    "\n",
    "y = df[['사망자수', '사상자수', '중상자수', '경상자수', '부상신고자수']]"
   ]
  },
  {
   "cell_type": "code",
   "execution_count": 7,
   "metadata": {},
   "outputs": [],
   "source": [
    "train_train, train_test, y_train, y_test = train_test_split(X,y,test_size=0.4, random_state=42)"
   ]
  },
  {
   "cell_type": "code",
   "execution_count": 8,
   "metadata": {},
   "outputs": [
    {
     "data": {
      "text/plain": [
       "((15022, 17), (15022, 5), (10015, 17), (10015, 5))"
      ]
     },
     "execution_count": 8,
     "metadata": {},
     "output_type": "execute_result"
    }
   ],
   "source": [
    "train_train.shape, y_train.shape, train_test.shape, y_test.shape"
   ]
  },
  {
   "cell_type": "markdown",
   "metadata": {},
   "source": [
    "## 1. 발생시군구_위험도"
   ]
  },
  {
   "cell_type": "code",
   "execution_count": 9,
   "metadata": {},
   "outputs": [],
   "source": [
    "df_big = df[(df.사망자수>=3)|(df.사상자수>=20)]"
   ]
  },
  {
   "cell_type": "code",
   "execution_count": 10,
   "metadata": {},
   "outputs": [
    {
     "data": {
      "text/plain": [
       "발생지시도  발생지시군구\n",
       "경기     화성시       5\n",
       "인천     서구        5\n",
       "전남     여수시       5\n",
       "충남     천안시       4\n",
       "충북     충주시       4\n",
       "Name: 발생년, dtype: int64"
      ]
     },
     "execution_count": 10,
     "metadata": {},
     "output_type": "execute_result"
    }
   ],
   "source": [
    "df_big.groupby(['발생지시도','발생지시군구']).count().발생년.sort_values(ascending=False).head()"
   ]
  },
  {
   "cell_type": "markdown",
   "metadata": {},
   "source": [
    "사망자수가 3명 이상이거나, 사상자수가 20명 이상인 사고를 대형교통사고라고 한다.     \n",
    "대형교통사고는 애초에 잘 발생하지 않아서 아예 발생하지 않은 지역도 있는데, 반대로 특히 몇몇 지역에서는 4~5번씩 자주 발생했음.    \n",
    "교통사고가 발생하면 대형교통사고로 이어지기 쉬운 특정 지역이 있을 것이라고 생각.        \n",
    "                           \n",
    "이때 시도 단위는 너무 넓어서 그런 특정 일부 지역의 특성을 반영하지는 못한다고 생각해서 군구 단위로 위험도를 계산해보기로 함. "
   ]
  },
  {
   "cell_type": "code",
   "execution_count": 11,
   "metadata": {},
   "outputs": [
    {
     "name": "stderr",
     "output_type": "stream",
     "text": [
      "/Library/Frameworks/Python.framework/Versions/3.7/lib/python3.7/site-packages/pandas/core/indexing.py:362: SettingWithCopyWarning: \n",
      "A value is trying to be set on a copy of a slice from a DataFrame.\n",
      "Try using .loc[row_indexer,col_indexer] = value instead\n",
      "\n",
      "See the caveats in the documentation: http://pandas.pydata.org/pandas-docs/stable/indexing.html#indexing-view-versus-copy\n",
      "  self.obj[key] = _infer_fill_value(value)\n",
      "/Library/Frameworks/Python.framework/Versions/3.7/lib/python3.7/site-packages/pandas/core/indexing.py:543: SettingWithCopyWarning: \n",
      "A value is trying to be set on a copy of a slice from a DataFrame.\n",
      "Try using .loc[row_indexer,col_indexer] = value instead\n",
      "\n",
      "See the caveats in the documentation: http://pandas.pydata.org/pandas-docs/stable/indexing.html#indexing-view-versus-copy\n",
      "  self.obj[item] = s\n"
     ]
    },
    {
     "data": {
      "text/plain": [
       "count    15022.000000\n",
       "mean        14.273865\n",
       "std          1.070885\n",
       "min         12.000000\n",
       "25%         13.688702\n",
       "50%         14.178082\n",
       "75%         14.742188\n",
       "max         26.666667\n",
       "Name: 발생시군구_위험도, dtype: float64"
      ]
     },
     "execution_count": 11,
     "metadata": {},
     "output_type": "execute_result"
    }
   ],
   "source": [
    "# 지역별 전체 교통사고 횟수\n",
    "\n",
    "total= train_train.groupby(['발생지시도','발생지시군구']).count().주야.sort_index()\n",
    "#total\n",
    "\n",
    "# 지역별 사망자 수\n",
    "\n",
    "a = train_train.groupby(['발생지시도','발생지시군구']).sum().사망자수.sort_index()\n",
    "#a\n",
    "\n",
    "# 지역별 총 부상자수\n",
    "\n",
    "b = train_train.groupby(['발생지시도','발생지시군구']).sum().총부상자수.sort_index()\n",
    "#b\n",
    "\n",
    "temp = (a*12 + b*3)/total\n",
    "\n",
    "for i,j in temp.index:\n",
    "    train_train.loc[(train_train.발생지시도==i)&(train_train.발생지시군구==j),'발생시군구_위험도'] = temp[i,j]\n",
    "\n",
    "train_train.발생시군구_위험도.describe()"
   ]
  },
  {
   "cell_type": "code",
   "execution_count": 12,
   "metadata": {},
   "outputs": [
    {
     "name": "stderr",
     "output_type": "stream",
     "text": [
      "/Library/Frameworks/Python.framework/Versions/3.7/lib/python3.7/site-packages/matplotlib/font_manager.py:1241: UserWarning: findfont: Font family ['NanumBarunGothic'] not found. Falling back to DejaVu Sans.\n",
      "  (prop.get_family(), self.defaultFamily[fontext]))\n"
     ]
    },
    {
     "data": {
      "image/png": "[encoded data removed]",
      "text/plain": [
       "<Figure size 432x288 with 1 Axes>"
      ]
     },
     "metadata": {
      "needs_background": "light"
     },
     "output_type": "display_data"
    }
   ],
   "source": [
    "train_train.발생시군구_위험도.hist(bins=30);"
   ]
  },
  {
   "cell_type": "markdown",
   "metadata": {},
   "source": [
    "대부분의 시군구지역의 위험도는 15안쪽이고, 높은 지역은 26까지도 나타남.       \n",
    "개인적으로는 16을 기준으로 16이상인 지역은 위험도가 높은지역, 미만인 지역은 위험도가 낮은 지역으로 볼 수 있지 않을까 생각. "
   ]
  },
  {
   "cell_type": "code",
   "execution_count": 13,
   "metadata": {},
   "outputs": [
    {
     "data": {
      "text/plain": [
       "발생지시군구\n",
       "고성군     26.666667\n",
       "곡성군     20.806452\n",
       "평창군     20.341463\n",
       "단양군     19.200000\n",
       "임실군     17.333333\n",
       "중구      17.225806\n",
       "부평구     16.615385\n",
       "인제군     16.500000\n",
       "해운대구    16.260000\n",
       "보령시     16.237500\n",
       "장수군     16.050000\n",
       "Name: 발생시군구_위험도, dtype: float64"
      ]
     },
     "execution_count": 13,
     "metadata": {},
     "output_type": "execute_result"
    }
   ],
   "source": [
    "train_train[train_train.발생시군구_위험도>=16].groupby('발생지시군구').mean().발생시군구_위험도.sort_values(ascending=False)"
   ]
  },
  {
   "cell_type": "markdown",
   "metadata": {},
   "source": [
    "위험도가 높은 지역 몇몇을 확인해보면, 고성군, 곡성군, 평창군, 단양군과 같이 주로 지방쪽 지역의 사고 위험도가 높게 나타나는 것 같다."
   ]
  },
  {
   "cell_type": "code",
   "execution_count": 14,
   "metadata": {},
   "outputs": [],
   "source": [
    "# train data에서 구한 시군구별 위험도를 test data에 적용\n",
    "\n",
    "temp = train_train.groupby(['발생지시도','발생지시군구']).mean().발생시군구_위험도\n",
    "\n",
    "for i, j in temp.index:\n",
    "    train_test.loc[(train_test.발생지시도==i)&(train_test.발생지시군구==j),'발생시군구_위험도'] = temp[i,j]    \n",
    "\n",
    "#train_test.발생시군구_위험도.describe()"
   ]
  },
  {
   "cell_type": "markdown",
   "metadata": {},
   "source": [
    "이 위험도가 test data에 의미있게 작용하는지를 어떻게 확인할 수 있을지 고민해봄.    \n",
    "사망자수나 중상자수, 경상자수같은 수치는 애초에 수치의 range가 너무 작으니, 수치의 range가 큰 사상자수를 이용해서 확인해보기로 함.     \n",
    "                      \n",
    "test data에서 사상자수가 높은 data일수록 위험도 수치가 높다고 나타난 data의 비율이 높으면, 어느정도 쓸만한 변수라고 생각"
   ]
  },
  {
   "cell_type": "code",
   "execution_count": 15,
   "metadata": {},
   "outputs": [
    {
     "data": {
      "image/png": "[encoded data removed]",
      "text/plain": [
       "<Figure size 432x288 with 1 Axes>"
      ]
     },
     "metadata": {
      "needs_background": "light"
     },
     "output_type": "display_data"
    }
   ],
   "source": [
    "high=[]\n",
    "low=[]\n",
    "\n",
    "# 사상자수 1\n",
    "total = train_test[(train_test.사상자수==1)].shape[0]\n",
    "a = train_test[(train_test.사상자수==1)&(train_test.발생시군구_위험도<=16)].shape[0]\n",
    "b = train_test[(train_test.사상자수==1)&(train_test.발생시군구_위험도>16)].shape[0]\n",
    "\n",
    "low.append(a/total)\n",
    "high.append(b/total)\n",
    "\n",
    "# 사상자수 2\n",
    "total = train_test[(train_test.사상자수==2)].shape[0]\n",
    "a = train_test[(train_test.사상자수==2)&(train_test.발생시군구_위험도<=16)].shape[0]\n",
    "b = train_test[(train_test.사상자수==2)&(train_test.발생시군구_위험도>16)].shape[0]\n",
    "\n",
    "low.append(a/total)\n",
    "high.append(b/total)\n",
    "\n",
    "# 사상자수 3~4\n",
    "total = train_test[(train_test.사상자수>=3)&(train_test.사상자수<=4)].shape[0]\n",
    "a = train_test[(train_test.사상자수>=3)&(train_test.사상자수<=4)&(train_test.발생시군구_위험도<=16)].shape[0]\n",
    "b = train_test[(train_test.사상자수>=3)&(train_test.사상자수<=4)&(train_test.발생시군구_위험도>16)].shape[0]\n",
    "\n",
    "low.append(a/total)\n",
    "high.append(b/total)\n",
    "\n",
    "# 사상자수 5~8\n",
    "total = train_test[(train_test.사상자수>=5)&(train_test.사상자수<=8)].shape[0]\n",
    "a = train_test[(train_test.사상자수>=5)&(train_test.사상자수<=8)&(train_test.발생시군구_위험도<=16)].shape[0]\n",
    "b = train_test[(train_test.사상자수>=5)&(train_test.사상자수<=8)&(train_test.발생시군구_위험도>16)].shape[0]\n",
    "\n",
    "low.append(a/total)\n",
    "high.append(b/total)\n",
    "\n",
    "# 사상자수 9~20\n",
    "total = train_test[(train_test.사상자수>=9)&(train_test.사상자수<=20)].shape[0]\n",
    "a = train_test[(train_test.사상자수>=9)&(train_test.사상자수<=20)&(train_test.발생시군구_위험도<=16)].shape[0]\n",
    "b = train_test[(train_test.사상자수>=9)&(train_test.사상자수<=20)&(train_test.발생시군구_위험도>16)].shape[0]\n",
    "\n",
    "low.append(a/total)\n",
    "high.append(b/total)\n",
    "\n",
    "# 사상자수 20~\n",
    "total = train_test[(train_test.사상자수>=21)].shape[0]\n",
    "a = train_test[(train_test.사상자수>=21)&(train_test.발생시군구_위험도<=16)].shape[0]\n",
    "b = train_test[(train_test.사상자수>=21)&(train_test.발생시군구_위험도>16)].shape[0]\n",
    "\n",
    "low.append(a/total)\n",
    "high.append(b/total)\n",
    "\n",
    "N = 6 \n",
    "ind = np.arange(N)\n",
    "width = 0.35\n",
    "\n",
    "p1 = plt.bar(ind, low, width)\n",
    "p2 = plt.bar(ind, high, width, bottom=low)\n",
    "\n",
    "#plt.ylabel('주야 비율')\n",
    "plt.xticks(ind, ('1','2','3~4','5~8','9~20','21~'))\n",
    "#plt.legend((p1[0],p2[0]),('주간','야간'))\n",
    "plt.show()"
   ]
  },
  {
   "cell_type": "markdown",
   "metadata": {},
   "source": [
    "사상자수가 많아지더라도 위험도 수치가 높다고 나타난 변수 비율에 큰 차이가 없어서 단순히 이 변수 하나만으로는 의미가 없다고 생각. 하지만 다른 위험도 변수들과 같이 위험도 합이나 가중평균에 같이 사용됐을 때 의미가 있을 수 도 있다고 생각."
   ]
  },
  {
   "cell_type": "markdown",
   "metadata": {},
   "source": [
    "## 2. 발생지시도x요일x주야 위험도"
   ]
  },
  {
   "cell_type": "code",
   "execution_count": 16,
   "metadata": {},
   "outputs": [
    {
     "data": {
      "text/html": [
       "<div>\n",
       "<style scoped>\n",
       "    .dataframe tbody tr th:only-of-type {\n",
       "        vertical-align: middle;\n",
       "    }\n",
       "\n",
       "    .dataframe tbody tr th {\n",
       "        vertical-align: top;\n",
       "    }\n",
       "\n",
       "    .dataframe thead th {\n",
       "        text-align: right;\n",
       "    }\n",
       "</style>\n",
       "<table border=\"1\" class=\"dataframe\">\n",
       "  <thead>\n",
       "    <tr style=\"text-align: right;\">\n",
       "      <th></th>\n",
       "      <th>사상자수</th>\n",
       "    </tr>\n",
       "    <tr>\n",
       "      <th>요일x주야</th>\n",
       "      <th></th>\n",
       "    </tr>\n",
       "  </thead>\n",
       "  <tbody>\n",
       "    <tr>\n",
       "      <th>월/주간</th>\n",
       "      <td>1.612423</td>\n",
       "    </tr>\n",
       "    <tr>\n",
       "      <th>월/야간</th>\n",
       "      <td>1.487254</td>\n",
       "    </tr>\n",
       "    <tr>\n",
       "      <th>화/주간</th>\n",
       "      <td>1.681167</td>\n",
       "    </tr>\n",
       "    <tr>\n",
       "      <th>화/야간</th>\n",
       "      <td>1.481784</td>\n",
       "    </tr>\n",
       "    <tr>\n",
       "      <th>수/주간</th>\n",
       "      <td>1.659977</td>\n",
       "    </tr>\n",
       "    <tr>\n",
       "      <th>수/야간</th>\n",
       "      <td>1.567232</td>\n",
       "    </tr>\n",
       "    <tr>\n",
       "      <th>목/주간</th>\n",
       "      <td>1.682149</td>\n",
       "    </tr>\n",
       "    <tr>\n",
       "      <th>목/야간</th>\n",
       "      <td>1.466220</td>\n",
       "    </tr>\n",
       "    <tr>\n",
       "      <th>금/주간</th>\n",
       "      <td>1.780542</td>\n",
       "    </tr>\n",
       "    <tr>\n",
       "      <th>금/야간</th>\n",
       "      <td>1.516010</td>\n",
       "    </tr>\n",
       "    <tr>\n",
       "      <th>토/주간</th>\n",
       "      <td>1.749408</td>\n",
       "    </tr>\n",
       "    <tr>\n",
       "      <th>토/야간</th>\n",
       "      <td>1.579653</td>\n",
       "    </tr>\n",
       "    <tr>\n",
       "      <th>일/주간</th>\n",
       "      <td>1.958709</td>\n",
       "    </tr>\n",
       "    <tr>\n",
       "      <th>일/야간</th>\n",
       "      <td>1.583824</td>\n",
       "    </tr>\n",
       "  </tbody>\n",
       "</table>\n",
       "</div>"
      ],
      "text/plain": [
       "           사상자수\n",
       "요일x주야          \n",
       "월/주간   1.612423\n",
       "월/야간   1.487254\n",
       "화/주간   1.681167\n",
       "화/야간   1.481784\n",
       "수/주간   1.659977\n",
       "수/야간   1.567232\n",
       "목/주간   1.682149\n",
       "목/야간   1.466220\n",
       "금/주간   1.780542\n",
       "금/야간   1.516010\n",
       "토/주간   1.749408\n",
       "토/야간   1.579653\n",
       "일/주간   1.958709\n",
       "일/야간   1.583824"
      ]
     },
     "execution_count": 16,
     "metadata": {},
     "output_type": "execute_result"
    }
   ],
   "source": [
    "df['요일x주야'] = df['요일'] + '/' + df['주야']\n",
    "temp = pd.DataFrame(df.groupby('요일x주야').mean().사상자수)\n",
    "temp = temp.loc[['월/주간','월/야간','화/주간','화/야간','수/주간','수/야간','목/주간','목/야간','금/주간','금/야간','토/주간','토/야간','일/주간','일/야간']]\n",
    "temp"
   ]
  },
  {
   "cell_type": "code",
   "execution_count": 20,
   "metadata": {},
   "outputs": [
    {
     "name": "stderr",
     "output_type": "stream",
     "text": [
      "/Library/Frameworks/Python.framework/Versions/3.7/lib/python3.7/site-packages/matplotlib/font_manager.py:1241: UserWarning: findfont: Font family ['NanumGothicOTF'] not found. Falling back to DejaVu Sans.\n",
      "  (prop.get_family(), self.defaultFamily[fontext]))\n"
     ]
    },
    {
     "data": {
      "image/png": "[encoded data removed]",
      "text/plain": [
       "<Figure size 432x288 with 1 Axes>"
      ]
     },
     "metadata": {
      "needs_background": "light"
     },
     "output_type": "display_data"
    }
   ],
   "source": [
    "sns.barplot(x=temp.index, y=temp.사상자수)\n",
    "plt.xticks(rotation='vertical');"
   ]
  },
  {
   "cell_type": "markdown",
   "metadata": {},
   "source": [
    "보통 주간이 야간에비해 평균사상자수가 높게 나타난다. 또한 미세하긴 하지만 평일보다는 금토일 주간에 수치가 높게 나타난다.      \n",
    "이는 주로 야간보다 주간에, 또 평일보다는 주말에 많이 활동하는 우리의 생활패턴이 반영된 결과라고 생각.     \n",
    "       \n",
    "요일과 주야와 더불어서 우리의 생활 패턴에 또 많은 영향을 주는 것은 어느 시도인지 라고 생각. 대도시인지 대도시 주변 지역인지에 따라서 요일,주야별로 사람들의 이동 패턴이 다르게 나타날 것임. 즉 차량의 흐름이 시도x요일x주야 별로 다르니, 평균 사상자수도 다른 패턴을 보일 것임.    \n",
    "      \n",
    "시도x요일x주야별로 평균 사상자수 살펴보기"
   ]
  },
  {
   "cell_type": "code",
   "execution_count": 21,
   "metadata": {},
   "outputs": [
    {
     "data": {
      "image/png": "[encoded data removed]",
      "text/plain": [
       "<Figure size 1440x864 with 8 Axes>"
      ]
     },
     "metadata": {
      "needs_background": "light"
     },
     "output_type": "display_data"
    }
   ],
   "source": [
    "# 주요 도시별 시도x요일x주야 평균 사상자수\n",
    "\n",
    "a = ['서울','인천','부산','울산','대구','광주','대전','세종']\n",
    "\n",
    "\n",
    "fig = plt.figure(figsize=(20,12))\n",
    "\n",
    "for n,i in enumerate(a):\n",
    "    temp = pd.DataFrame(df[df.발생지시도==i].groupby('요일x주야').mean().사상자수)\n",
    "    temp = temp.loc[['월/주간','월/야간','화/주간','화/야간','수/주간','수/야간','목/주간','목/야간','금/주간','금/야간','토/주간','토/야간','일/주간','일/야간']]\n",
    "    \n",
    "    \n",
    "    \n",
    "    ax = fig.add_subplot(2,4,n+1)\n",
    "    sns.barplot(x=temp.index, y=temp.사상자수,ax=ax, color='b')\n",
    "    plt.xticks(rotation='vertical')\n",
    "    plt.title(i,fontsize=20)\n",
    "    \n",
    "plt.tight_layout()"
   ]
  },
  {
   "cell_type": "code",
   "execution_count": 22,
   "metadata": {},
   "outputs": [
    {
     "data": {
      "image/png": "[encoded data removed]",
      "text/plain": [
       "<Figure size 1800x1440 with 9 Axes>"
      ]
     },
     "metadata": {
      "needs_background": "light"
     },
     "output_type": "display_data"
    }
   ],
   "source": [
    "# 비주요 지역별 시도x요일x주야 평균 사상자수\n",
    "\n",
    "b=  ['경기','경북','경남','전북','전남','충북','충남','강원','제주']\n",
    "\n",
    "\n",
    "fig = plt.figure(figsize=(25,20))\n",
    "\n",
    "for n,i in enumerate(b):\n",
    "    temp = pd.DataFrame(df[df.발생지시도==i].groupby('요일x주야').mean().사상자수)\n",
    "    temp = temp.loc[['월/주간','월/야간','화/주간','화/야간','수/주간','수/야간','목/주간','목/야간','금/주간','금/야간','토/주간','토/야간','일/주간','일/야간']]\n",
    "    \n",
    "    \n",
    "    \n",
    "    ax = fig.add_subplot(3,3,n+1)\n",
    "    sns.barplot(x=temp.index, y=temp.사상자수,ax=ax, color='b')\n",
    "    plt.xticks(rotation='vertical')\n",
    "    plt.title(i,fontsize=20)\n",
    "    \n",
    "plt.tight_layout()\n"
   ]
  },
  {
   "cell_type": "code",
   "execution_count": 26,
   "metadata": {},
   "outputs": [],
   "source": [
    "# k-l divergence 해보기"
   ]
  },
  {
   "cell_type": "code",
   "execution_count": 23,
   "metadata": {},
   "outputs": [
    {
     "data": {
      "text/plain": [
       "count    15022.000000\n",
       "mean        14.273865\n",
       "std          1.048010\n",
       "min         12.000000\n",
       "25%         13.626168\n",
       "50%         14.096234\n",
       "75%         14.680000\n",
       "max         21.420000\n",
       "Name: 발생지시도x요일x주야_위험도, dtype: float64"
      ]
     },
     "execution_count": 23,
     "metadata": {},
     "output_type": "execute_result"
    }
   ],
   "source": [
    "total = train_train.groupby(['발생지시도','요일','주야']).count().도로형태.sort_index()\n",
    "#total\n",
    "\n",
    "a = train_train.groupby(['발생지시도','요일','주야']).sum().사망자수.sort_index()\n",
    "#a\n",
    "\n",
    "b=train_train.groupby(['발생지시도','요일','주야']).sum().총부상자수.sort_index()\n",
    "#b\n",
    "\n",
    "temp = (a*12+b*3)/total\n",
    "\n",
    "#temp\n",
    "\n",
    "for i,j,k in temp.index:\n",
    "    train_train.loc[(train_train.발생지시도==i)&(train_train.요일==j)&(train_train.주야==k),'발생지시도x요일x주야_위험도'] = temp[i,j,k]\n",
    "\n",
    "train_train.발생지시도x요일x주야_위험도.describe()"
   ]
  },
  {
   "cell_type": "code",
   "execution_count": 24,
   "metadata": {},
   "outputs": [
    {
     "data": {
      "text/plain": [
       "<matplotlib.axes._subplots.AxesSubplot at 0x1323aea20>"
      ]
     },
     "execution_count": 24,
     "metadata": {},
     "output_type": "execute_result"
    },
    {
     "data": {
      "image/png": "[encoded data removed]",
      "text/plain": [
       "<Figure size 432x288 with 1 Axes>"
      ]
     },
     "metadata": {
      "needs_background": "light"
     },
     "output_type": "display_data"
    }
   ],
   "source": [
    "train_train.발생지시도x요일x주야_위험도.hist(bins=30)"
   ]
  },
  {
   "cell_type": "markdown",
   "metadata": {},
   "source": [
    "대부분의 시도x요일x주야 조합의 위험도는 15안쪽이고, 높은 지역은 21까지도 나타남.                                                     \n",
    "개인적으로는 16을 기준으로 16이상인 시도x요일x주야 조합은 위험도가 높은 조합이고, 미만인 조합은 위험도가 낮은 조합으로 볼 수 있지 않을까 생각. "
   ]
  },
  {
   "cell_type": "code",
   "execution_count": 25,
   "metadata": {},
   "outputs": [
    {
     "data": {
      "text/plain": [
       "발생지시도  요일  주야\n",
       "강원     금   주간    21.420000\n",
       "제주     화   주간    19.650000\n",
       "광주     목   주간    19.411765\n",
       "제주     목   주간    18.545455\n",
       "울산     일   주간    18.400000\n",
       "Name: 발생지시도x요일x주야_위험도, dtype: float64"
      ]
     },
     "execution_count": 25,
     "metadata": {},
     "output_type": "execute_result"
    }
   ],
   "source": [
    "train_train[train_train.발생지시도x요일x주야_위험도>=16].groupby(['발생지시도','요일','주야']).mean().발생지시도x요일x주야_위험도.sort_values(ascending=False).head()"
   ]
  },
  {
   "cell_type": "markdown",
   "metadata": {},
   "source": [
    "몇몇 위험도가 높은 시도x요일x주야 조합을 보면, 보통 평일 주간일 때 위험도가 높아 보임"
   ]
  },
  {
   "cell_type": "code",
   "execution_count": 26,
   "metadata": {},
   "outputs": [],
   "source": [
    "# train data에서 구한 시도x요일x주야별 위험도를 test data에 적용\n",
    "\n",
    "temp = train_train.groupby(['발생지시도','요일','주야']).mean().발생지시도x요일x주야_위험도\n",
    "for i, j, k in temp.index:\n",
    "    train_test.loc[(train_test.발생지시도==i)&(train_test.요일==j)&(train_test.주야==k),'발생지시도x요일x주야_위험도'] = temp[i,j,k]    "
   ]
  },
  {
   "cell_type": "code",
   "execution_count": 27,
   "metadata": {},
   "outputs": [
    {
     "data": {
      "image/png": "[encoded data removed]",
      "text/plain": [
       "<Figure size 432x288 with 1 Axes>"
      ]
     },
     "metadata": {
      "needs_background": "light"
     },
     "output_type": "display_data"
    }
   ],
   "source": [
    "high=[]\n",
    "low=[]\n",
    "\n",
    "# 사상자수 1\n",
    "total = train_test[(train_test.사상자수==1)].shape[0]\n",
    "a = train_test[(train_test.사상자수==1)&(train_test.발생지시도x요일x주야_위험도<=16)].shape[0]\n",
    "b = train_test[(train_test.사상자수==1)&(train_test.발생지시도x요일x주야_위험도>16)].shape[0]\n",
    "\n",
    "low.append(a/total)\n",
    "high.append(b/total)\n",
    "\n",
    "# 사상자수 2\n",
    "total = train_test[(train_test.사상자수==2)].shape[0]\n",
    "a = train_test[(train_test.사상자수==2)&(train_test.발생지시도x요일x주야_위험도<=16)].shape[0]\n",
    "b = train_test[(train_test.사상자수==2)&(train_test.발생지시도x요일x주야_위험도>16)].shape[0]\n",
    "\n",
    "low.append(a/total)\n",
    "high.append(b/total)\n",
    "\n",
    "# 사상자수 3~4\n",
    "total = train_test[(train_test.사상자수>=3)&(train_test.사상자수<=4)].shape[0]\n",
    "a = train_test[(train_test.사상자수>=3)&(train_test.사상자수<=4)&(train_test.발생지시도x요일x주야_위험도<=16)].shape[0]\n",
    "b = train_test[(train_test.사상자수>=3)&(train_test.사상자수<=4)&(train_test.발생지시도x요일x주야_위험도>16)].shape[0]\n",
    "\n",
    "low.append(a/total)\n",
    "high.append(b/total)\n",
    "\n",
    "# 사상자수 5~8\n",
    "total = train_test[(train_test.사상자수>=5)&(train_test.사상자수<=8)].shape[0]\n",
    "a = train_test[(train_test.사상자수>=5)&(train_test.사상자수<=8)&(train_test.발생지시도x요일x주야_위험도<=16)].shape[0]\n",
    "b = train_test[(train_test.사상자수>=5)&(train_test.사상자수<=8)&(train_test.발생지시도x요일x주야_위험도>16)].shape[0]\n",
    "\n",
    "low.append(a/total)\n",
    "high.append(b/total)\n",
    "\n",
    "# 사상자수 9~20\n",
    "total = train_test[(train_test.사상자수>=9)&(train_test.사상자수<=20)].shape[0]\n",
    "a = train_test[(train_test.사상자수>=9)&(train_test.사상자수<=20)&(train_test.발생지시도x요일x주야_위험도<=16)].shape[0]\n",
    "b = train_test[(train_test.사상자수>=9)&(train_test.사상자수<=20)&(train_test.발생지시도x요일x주야_위험도>16)].shape[0]\n",
    "\n",
    "low.append(a/total)\n",
    "high.append(b/total)\n",
    "\n",
    "# 사상자수 20~\n",
    "total = train_test[(train_test.사상자수>=21)].shape[0]\n",
    "a = train_test[(train_test.사상자수>=21)&(train_test.발생지시도x요일x주야_위험도<=16)].shape[0]\n",
    "b = train_test[(train_test.사상자수>=21)&(train_test.발생지시도x요일x주야_위험도>16)].shape[0]\n",
    "\n",
    "low.append(a/total)\n",
    "high.append(b/total)\n",
    "\n",
    "N = 6 \n",
    "ind = np.arange(N)\n",
    "width = 0.35\n",
    "\n",
    "p1 = plt.bar(ind, low, width)\n",
    "p2 = plt.bar(ind, high, width, bottom=low)\n",
    "\n",
    "#plt.ylabel('주야 비율')\n",
    "plt.xticks(ind, ('1','2','3~4','5~8','9~20','21~'))\n",
    "#plt.legend((p1[0],p2[0]),('주간','야간'))\n",
    "plt.show()"
   ]
  },
  {
   "cell_type": "markdown",
   "metadata": {},
   "source": [
    "발생시군구_위험도와 마찬가지로, 사상자수가 많아지더라도 위험도 수치가 높다고 나타난 변수 비율에 큰 차이가 없어서 단순히 이 변수 하나만으로는 의미가 없다고 생각. 하지만 다른 위험도 변수들과 같이 위험도 합이나 가중평균에 같이 사용됐을 때 의미가 있을 수 도 있다고 생각."
   ]
  },
  {
   "cell_type": "markdown",
   "metadata": {},
   "source": [
    "## 3. 차량조합_위험도"
   ]
  },
  {
   "cell_type": "markdown",
   "metadata": {},
   "source": [
    "사고가 났을 때, 특히 사고피해가 높은 차종 조합이 있을 것이라고 생각해서 차종조합별로 평균 사상자수를 확인해봄.    "
   ]
  },
  {
   "cell_type": "code",
   "execution_count": 28,
   "metadata": {},
   "outputs": [],
   "source": [
    "df['차량조합'] = df['당사자종별_1당_대분류'] + '/' + df['당사자종별_2당_대분류']"
   ]
  },
  {
   "cell_type": "code",
   "execution_count": 29,
   "metadata": {
    "scrolled": true
   },
   "outputs": [
    {
     "data": {
      "text/html": [
       "<div>\n",
       "<style scoped>\n",
       "    .dataframe tbody tr th:only-of-type {\n",
       "        vertical-align: middle;\n",
       "    }\n",
       "\n",
       "    .dataframe tbody tr th {\n",
       "        vertical-align: top;\n",
       "    }\n",
       "\n",
       "    .dataframe thead th {\n",
       "        text-align: right;\n",
       "    }\n",
       "</style>\n",
       "<table border=\"1\" class=\"dataframe\">\n",
       "  <thead>\n",
       "    <tr style=\"text-align: right;\">\n",
       "      <th></th>\n",
       "      <th>사상자수</th>\n",
       "    </tr>\n",
       "    <tr>\n",
       "      <th>차량조합</th>\n",
       "      <th></th>\n",
       "    </tr>\n",
       "  </thead>\n",
       "  <tbody>\n",
       "    <tr>\n",
       "      <th>승합차/승합차</th>\n",
       "      <td>16.333333</td>\n",
       "    </tr>\n",
       "    <tr>\n",
       "      <th>건설기계/승합차</th>\n",
       "      <td>9.375000</td>\n",
       "    </tr>\n",
       "    <tr>\n",
       "      <th>승합차/건설기계</th>\n",
       "      <td>7.642857</td>\n",
       "    </tr>\n",
       "    <tr>\n",
       "      <th>승합차/화물차</th>\n",
       "      <td>6.144444</td>\n",
       "    </tr>\n",
       "    <tr>\n",
       "      <th>승합차/승용차</th>\n",
       "      <td>5.301370</td>\n",
       "    </tr>\n",
       "    <tr>\n",
       "      <th>화물차/승합차</th>\n",
       "      <td>4.958904</td>\n",
       "    </tr>\n",
       "    <tr>\n",
       "      <th>승용차/승합차</th>\n",
       "      <td>4.376623</td>\n",
       "    </tr>\n",
       "    <tr>\n",
       "      <th>승합차/없음</th>\n",
       "      <td>4.222892</td>\n",
       "    </tr>\n",
       "    <tr>\n",
       "      <th>승합차/특수차</th>\n",
       "      <td>3.750000</td>\n",
       "    </tr>\n",
       "    <tr>\n",
       "      <th>건설기계/승용차</th>\n",
       "      <td>3.634615</td>\n",
       "    </tr>\n",
       "    <tr>\n",
       "      <th>승용차/승용차</th>\n",
       "      <td>3.166786</td>\n",
       "    </tr>\n",
       "    <tr>\n",
       "      <th>특수차/승용차</th>\n",
       "      <td>3.111111</td>\n",
       "    </tr>\n",
       "    <tr>\n",
       "      <th>승용차/열차</th>\n",
       "      <td>3.000000</td>\n",
       "    </tr>\n",
       "    <tr>\n",
       "      <th>화물차/승용차</th>\n",
       "      <td>2.966245</td>\n",
       "    </tr>\n",
       "    <tr>\n",
       "      <th>건설기계/특수차</th>\n",
       "      <td>2.500000</td>\n",
       "    </tr>\n",
       "    <tr>\n",
       "      <th>승용차/화물차</th>\n",
       "      <td>2.430952</td>\n",
       "    </tr>\n",
       "    <tr>\n",
       "      <th>특수차/승합차</th>\n",
       "      <td>2.400000</td>\n",
       "    </tr>\n",
       "    <tr>\n",
       "      <th>특수차/특수차</th>\n",
       "      <td>2.400000</td>\n",
       "    </tr>\n",
       "    <tr>\n",
       "      <th>화물차/화물차</th>\n",
       "      <td>2.383595</td>\n",
       "    </tr>\n",
       "    <tr>\n",
       "      <th>특수차/화물차</th>\n",
       "      <td>2.310345</td>\n",
       "    </tr>\n",
       "    <tr>\n",
       "      <th>원동기장치자전거/이륜차</th>\n",
       "      <td>2.250000</td>\n",
       "    </tr>\n",
       "    <tr>\n",
       "      <th>이륜차/원동기장치자전거</th>\n",
       "      <td>2.166667</td>\n",
       "    </tr>\n",
       "    <tr>\n",
       "      <th>농기계/승용차</th>\n",
       "      <td>2.142857</td>\n",
       "    </tr>\n",
       "    <tr>\n",
       "      <th>이륜차/이륜차</th>\n",
       "      <td>2.034483</td>\n",
       "    </tr>\n",
       "    <tr>\n",
       "      <th>화물차/건설기계</th>\n",
       "      <td>2.022472</td>\n",
       "    </tr>\n",
       "    <tr>\n",
       "      <th>자전거/원동기장치자전거</th>\n",
       "      <td>2.000000</td>\n",
       "    </tr>\n",
       "    <tr>\n",
       "      <th>건설기계/건설기계</th>\n",
       "      <td>2.000000</td>\n",
       "    </tr>\n",
       "    <tr>\n",
       "      <th>사륜오토바이(ATV)/이륜차</th>\n",
       "      <td>2.000000</td>\n",
       "    </tr>\n",
       "    <tr>\n",
       "      <th>불명/원동기장치자전거</th>\n",
       "      <td>2.000000</td>\n",
       "    </tr>\n",
       "    <tr>\n",
       "      <th>자전거/이륜차</th>\n",
       "      <td>2.000000</td>\n",
       "    </tr>\n",
       "    <tr>\n",
       "      <th>승용차/특수차</th>\n",
       "      <td>1.988372</td>\n",
       "    </tr>\n",
       "    <tr>\n",
       "      <th>화물차/특수차</th>\n",
       "      <td>1.980392</td>\n",
       "    </tr>\n",
       "    <tr>\n",
       "      <th>건설기계/화물차</th>\n",
       "      <td>1.947368</td>\n",
       "    </tr>\n",
       "    <tr>\n",
       "      <th>승용차/건설기계</th>\n",
       "      <td>1.916667</td>\n",
       "    </tr>\n",
       "    <tr>\n",
       "      <th>승합차/농기계</th>\n",
       "      <td>1.916667</td>\n",
       "    </tr>\n",
       "    <tr>\n",
       "      <th>특수차/건설기계</th>\n",
       "      <td>1.750000</td>\n",
       "    </tr>\n",
       "    <tr>\n",
       "      <th>원동기장치자전거/원동기장치자전거</th>\n",
       "      <td>1.750000</td>\n",
       "    </tr>\n",
       "    <tr>\n",
       "      <th>이륜차/자전거</th>\n",
       "      <td>1.666667</td>\n",
       "    </tr>\n",
       "    <tr>\n",
       "      <th>화물차/농기계</th>\n",
       "      <td>1.630769</td>\n",
       "    </tr>\n",
       "    <tr>\n",
       "      <th>승용차/농기계</th>\n",
       "      <td>1.604790</td>\n",
       "    </tr>\n",
       "    <tr>\n",
       "      <th>승용차/없음</th>\n",
       "      <td>1.584669</td>\n",
       "    </tr>\n",
       "    <tr>\n",
       "      <th>불명/승용차</th>\n",
       "      <td>1.583333</td>\n",
       "    </tr>\n",
       "    <tr>\n",
       "      <th>농기계/화물차</th>\n",
       "      <td>1.571429</td>\n",
       "    </tr>\n",
       "    <tr>\n",
       "      <th>이륜차/보행자</th>\n",
       "      <td>1.552448</td>\n",
       "    </tr>\n",
       "    <tr>\n",
       "      <th>이륜차/승용차</th>\n",
       "      <td>1.511278</td>\n",
       "    </tr>\n",
       "    <tr>\n",
       "      <th>사륜오토바이(ATV)/화물차</th>\n",
       "      <td>1.500000</td>\n",
       "    </tr>\n",
       "    <tr>\n",
       "      <th>화물차/불명</th>\n",
       "      <td>1.500000</td>\n",
       "    </tr>\n",
       "    <tr>\n",
       "      <th>화물차/사륜오토바이(ATV)</th>\n",
       "      <td>1.500000</td>\n",
       "    </tr>\n",
       "    <tr>\n",
       "      <th>승용차/불명</th>\n",
       "      <td>1.461538</td>\n",
       "    </tr>\n",
       "    <tr>\n",
       "      <th>원동기장치자전거/자전거</th>\n",
       "      <td>1.461538</td>\n",
       "    </tr>\n",
       "    <tr>\n",
       "      <th>원동기장치자전거/승용차</th>\n",
       "      <td>1.457516</td>\n",
       "    </tr>\n",
       "    <tr>\n",
       "      <th>승합차/원동기장치자전거</th>\n",
       "      <td>1.447368</td>\n",
       "    </tr>\n",
       "    <tr>\n",
       "      <th>농기계/원동기장치자전거</th>\n",
       "      <td>1.428571</td>\n",
       "    </tr>\n",
       "    <tr>\n",
       "      <th>이륜차/승합차</th>\n",
       "      <td>1.425197</td>\n",
       "    </tr>\n",
       "    <tr>\n",
       "      <th>원동기장치자전거/보행자</th>\n",
       "      <td>1.409836</td>\n",
       "    </tr>\n",
       "    <tr>\n",
       "      <th>화물차/없음</th>\n",
       "      <td>1.397422</td>\n",
       "    </tr>\n",
       "    <tr>\n",
       "      <th>자전거/자전거</th>\n",
       "      <td>1.375000</td>\n",
       "    </tr>\n",
       "    <tr>\n",
       "      <th>원동기장치자전거/농기계</th>\n",
       "      <td>1.333333</td>\n",
       "    </tr>\n",
       "    <tr>\n",
       "      <th>승용차/이륜차</th>\n",
       "      <td>1.317627</td>\n",
       "    </tr>\n",
       "    <tr>\n",
       "      <th>이륜차/화물차</th>\n",
       "      <td>1.284746</td>\n",
       "    </tr>\n",
       "    <tr>\n",
       "      <th>승용차/원동기장치자전거</th>\n",
       "      <td>1.265233</td>\n",
       "    </tr>\n",
       "    <tr>\n",
       "      <th>농기계/이륜차</th>\n",
       "      <td>1.250000</td>\n",
       "    </tr>\n",
       "    <tr>\n",
       "      <th>농기계/농기계</th>\n",
       "      <td>1.250000</td>\n",
       "    </tr>\n",
       "    <tr>\n",
       "      <th>승합차/이륜차</th>\n",
       "      <td>1.247059</td>\n",
       "    </tr>\n",
       "    <tr>\n",
       "      <th>화물차/이륜차</th>\n",
       "      <td>1.235690</td>\n",
       "    </tr>\n",
       "    <tr>\n",
       "      <th>원동기장치자전거/승합차</th>\n",
       "      <td>1.214286</td>\n",
       "    </tr>\n",
       "    <tr>\n",
       "      <th>사륜오토바이(ATV)/없음</th>\n",
       "      <td>1.200000</td>\n",
       "    </tr>\n",
       "    <tr>\n",
       "      <th>원동기장치자전거/화물차</th>\n",
       "      <td>1.196891</td>\n",
       "    </tr>\n",
       "    <tr>\n",
       "      <th>자전거/승합차</th>\n",
       "      <td>1.172414</td>\n",
       "    </tr>\n",
       "    <tr>\n",
       "      <th>자전거/보행자</th>\n",
       "      <td>1.171429</td>\n",
       "    </tr>\n",
       "    <tr>\n",
       "      <th>특수차/농기계</th>\n",
       "      <td>1.166667</td>\n",
       "    </tr>\n",
       "    <tr>\n",
       "      <th>건설기계/이륜차</th>\n",
       "      <td>1.166667</td>\n",
       "    </tr>\n",
       "    <tr>\n",
       "      <th>건설기계/원동기장치자전거</th>\n",
       "      <td>1.160000</td>\n",
       "    </tr>\n",
       "    <tr>\n",
       "      <th>특수차/없음</th>\n",
       "      <td>1.153846</td>\n",
       "    </tr>\n",
       "    <tr>\n",
       "      <th>이륜차/건설기계</th>\n",
       "      <td>1.153846</td>\n",
       "    </tr>\n",
       "    <tr>\n",
       "      <th>건설기계/농기계</th>\n",
       "      <td>1.142857</td>\n",
       "    </tr>\n",
       "    <tr>\n",
       "      <th>승합차/보행자</th>\n",
       "      <td>1.134048</td>\n",
       "    </tr>\n",
       "    <tr>\n",
       "      <th>이륜차/특수차</th>\n",
       "      <td>1.133333</td>\n",
       "    </tr>\n",
       "    <tr>\n",
       "      <th>화물차/원동기장치자전거</th>\n",
       "      <td>1.132597</td>\n",
       "    </tr>\n",
       "    <tr>\n",
       "      <th>원동기장치자전거/없음</th>\n",
       "      <td>1.130137</td>\n",
       "    </tr>\n",
       "    <tr>\n",
       "      <th>승용차/보행자</th>\n",
       "      <td>1.118925</td>\n",
       "    </tr>\n",
       "    <tr>\n",
       "      <th>원동기장치자전거/특수차</th>\n",
       "      <td>1.100000</td>\n",
       "    </tr>\n",
       "    <tr>\n",
       "      <th>이륜차/없음</th>\n",
       "      <td>1.098726</td>\n",
       "    </tr>\n",
       "    <tr>\n",
       "      <th>특수차/보행자</th>\n",
       "      <td>1.097561</td>\n",
       "    </tr>\n",
       "    <tr>\n",
       "      <th>화물차/보행자</th>\n",
       "      <td>1.087154</td>\n",
       "    </tr>\n",
       "    <tr>\n",
       "      <th>승합차/자전거</th>\n",
       "      <td>1.076190</td>\n",
       "    </tr>\n",
       "    <tr>\n",
       "      <th>농기계/없음</th>\n",
       "      <td>1.069565</td>\n",
       "    </tr>\n",
       "    <tr>\n",
       "      <th>농기계/보행자</th>\n",
       "      <td>1.066667</td>\n",
       "    </tr>\n",
       "    <tr>\n",
       "      <th>자전거/승용차</th>\n",
       "      <td>1.062500</td>\n",
       "    </tr>\n",
       "    <tr>\n",
       "      <th>승용차/자전거</th>\n",
       "      <td>1.060976</td>\n",
       "    </tr>\n",
       "    <tr>\n",
       "      <th>원동기장치자전거/건설기계</th>\n",
       "      <td>1.047619</td>\n",
       "    </tr>\n",
       "    <tr>\n",
       "      <th>건설기계/없음</th>\n",
       "      <td>1.032258</td>\n",
       "    </tr>\n",
       "    <tr>\n",
       "      <th>건설기계/보행자</th>\n",
       "      <td>1.030888</td>\n",
       "    </tr>\n",
       "    <tr>\n",
       "      <th>자전거/화물차</th>\n",
       "      <td>1.021978</td>\n",
       "    </tr>\n",
       "    <tr>\n",
       "      <th>화물차/자전거</th>\n",
       "      <td>1.018576</td>\n",
       "    </tr>\n",
       "    <tr>\n",
       "      <th>사륜오토바이(ATV)/건설기계</th>\n",
       "      <td>1.000000</td>\n",
       "    </tr>\n",
       "    <tr>\n",
       "      <th>불명/화물차</th>\n",
       "      <td>1.000000</td>\n",
       "    </tr>\n",
       "    <tr>\n",
       "      <th>화물차/열차</th>\n",
       "      <td>1.000000</td>\n",
       "    </tr>\n",
       "    <tr>\n",
       "      <th>특수차/자전거</th>\n",
       "      <td>1.000000</td>\n",
       "    </tr>\n",
       "    <tr>\n",
       "      <th>특수차/이륜차</th>\n",
       "      <td>1.000000</td>\n",
       "    </tr>\n",
       "    <tr>\n",
       "      <th>특수차/원동기장치자전거</th>\n",
       "      <td>1.000000</td>\n",
       "    </tr>\n",
       "    <tr>\n",
       "      <th>건설기계/자전거</th>\n",
       "      <td>1.000000</td>\n",
       "    </tr>\n",
       "    <tr>\n",
       "      <th>자전거/특수차</th>\n",
       "      <td>1.000000</td>\n",
       "    </tr>\n",
       "    <tr>\n",
       "      <th>자전거/없음</th>\n",
       "      <td>1.000000</td>\n",
       "    </tr>\n",
       "    <tr>\n",
       "      <th>자전거/불명</th>\n",
       "      <td>1.000000</td>\n",
       "    </tr>\n",
       "    <tr>\n",
       "      <th>자전거/건설기계</th>\n",
       "      <td>1.000000</td>\n",
       "    </tr>\n",
       "    <tr>\n",
       "      <th>이륜차/열차</th>\n",
       "      <td>1.000000</td>\n",
       "    </tr>\n",
       "    <tr>\n",
       "      <th>농기계/승합차</th>\n",
       "      <td>1.000000</td>\n",
       "    </tr>\n",
       "    <tr>\n",
       "      <th>이륜차/불명</th>\n",
       "      <td>1.000000</td>\n",
       "    </tr>\n",
       "    <tr>\n",
       "      <th>이륜차/농기계</th>\n",
       "      <td>1.000000</td>\n",
       "    </tr>\n",
       "    <tr>\n",
       "      <th>원동기장치자전거/불명</th>\n",
       "      <td>1.000000</td>\n",
       "    </tr>\n",
       "    <tr>\n",
       "      <th>농기계/특수차</th>\n",
       "      <td>1.000000</td>\n",
       "    </tr>\n",
       "    <tr>\n",
       "      <th>승합차/사륜오토바이(ATV)</th>\n",
       "      <td>1.000000</td>\n",
       "    </tr>\n",
       "    <tr>\n",
       "      <th>불명/보행자</th>\n",
       "      <td>1.000000</td>\n",
       "    </tr>\n",
       "    <tr>\n",
       "      <th>불명/불명</th>\n",
       "      <td>1.000000</td>\n",
       "    </tr>\n",
       "    <tr>\n",
       "      <th>승용차/사륜오토바이(ATV)</th>\n",
       "      <td>1.000000</td>\n",
       "    </tr>\n",
       "    <tr>\n",
       "      <th>불명/없음</th>\n",
       "      <td>1.000000</td>\n",
       "    </tr>\n",
       "    <tr>\n",
       "      <th>사륜오토바이(ATV)/승용차</th>\n",
       "      <td>1.000000</td>\n",
       "    </tr>\n",
       "    <tr>\n",
       "      <th>불명/이륜차</th>\n",
       "      <td>1.000000</td>\n",
       "    </tr>\n",
       "    <tr>\n",
       "      <th>불명/자전거</th>\n",
       "      <td>1.000000</td>\n",
       "    </tr>\n",
       "    <tr>\n",
       "      <th>개인형이동수단(PM)/없음</th>\n",
       "      <td>1.000000</td>\n",
       "    </tr>\n",
       "  </tbody>\n",
       "</table>\n",
       "</div>"
      ],
      "text/plain": [
       "                        사상자수\n",
       "차량조합                        \n",
       "승합차/승합차            16.333333\n",
       "건설기계/승합차            9.375000\n",
       "승합차/건설기계            7.642857\n",
       "승합차/화물차             6.144444\n",
       "승합차/승용차             5.301370\n",
       "화물차/승합차             4.958904\n",
       "승용차/승합차             4.376623\n",
       "승합차/없음              4.222892\n",
       "승합차/특수차             3.750000\n",
       "건설기계/승용차            3.634615\n",
       "승용차/승용차             3.166786\n",
       "특수차/승용차             3.111111\n",
       "승용차/열차              3.000000\n",
       "화물차/승용차             2.966245\n",
       "건설기계/특수차            2.500000\n",
       "승용차/화물차             2.430952\n",
       "특수차/승합차             2.400000\n",
       "특수차/특수차             2.400000\n",
       "화물차/화물차             2.383595\n",
       "특수차/화물차             2.310345\n",
       "원동기장치자전거/이륜차        2.250000\n",
       "이륜차/원동기장치자전거        2.166667\n",
       "농기계/승용차             2.142857\n",
       "이륜차/이륜차             2.034483\n",
       "화물차/건설기계            2.022472\n",
       "자전거/원동기장치자전거        2.000000\n",
       "건설기계/건설기계           2.000000\n",
       "사륜오토바이(ATV)/이륜차     2.000000\n",
       "불명/원동기장치자전거         2.000000\n",
       "자전거/이륜차             2.000000\n",
       "승용차/특수차             1.988372\n",
       "화물차/특수차             1.980392\n",
       "건설기계/화물차            1.947368\n",
       "승용차/건설기계            1.916667\n",
       "승합차/농기계             1.916667\n",
       "특수차/건설기계            1.750000\n",
       "원동기장치자전거/원동기장치자전거   1.750000\n",
       "이륜차/자전거             1.666667\n",
       "화물차/농기계             1.630769\n",
       "승용차/농기계             1.604790\n",
       "승용차/없음              1.584669\n",
       "불명/승용차              1.583333\n",
       "농기계/화물차             1.571429\n",
       "이륜차/보행자             1.552448\n",
       "이륜차/승용차             1.511278\n",
       "사륜오토바이(ATV)/화물차     1.500000\n",
       "화물차/불명              1.500000\n",
       "화물차/사륜오토바이(ATV)     1.500000\n",
       "승용차/불명              1.461538\n",
       "원동기장치자전거/자전거        1.461538\n",
       "원동기장치자전거/승용차        1.457516\n",
       "승합차/원동기장치자전거        1.447368\n",
       "농기계/원동기장치자전거        1.428571\n",
       "이륜차/승합차             1.425197\n",
       "원동기장치자전거/보행자        1.409836\n",
       "화물차/없음              1.397422\n",
       "자전거/자전거             1.375000\n",
       "원동기장치자전거/농기계        1.333333\n",
       "승용차/이륜차             1.317627\n",
       "이륜차/화물차             1.284746\n",
       "승용차/원동기장치자전거        1.265233\n",
       "농기계/이륜차             1.250000\n",
       "농기계/농기계             1.250000\n",
       "승합차/이륜차             1.247059\n",
       "화물차/이륜차             1.235690\n",
       "원동기장치자전거/승합차        1.214286\n",
       "사륜오토바이(ATV)/없음      1.200000\n",
       "원동기장치자전거/화물차        1.196891\n",
       "자전거/승합차             1.172414\n",
       "자전거/보행자             1.171429\n",
       "특수차/농기계             1.166667\n",
       "건설기계/이륜차            1.166667\n",
       "건설기계/원동기장치자전거       1.160000\n",
       "특수차/없음              1.153846\n",
       "이륜차/건설기계            1.153846\n",
       "건설기계/농기계            1.142857\n",
       "승합차/보행자             1.134048\n",
       "이륜차/특수차             1.133333\n",
       "화물차/원동기장치자전거        1.132597\n",
       "원동기장치자전거/없음         1.130137\n",
       "승용차/보행자             1.118925\n",
       "원동기장치자전거/특수차        1.100000\n",
       "이륜차/없음              1.098726\n",
       "특수차/보행자             1.097561\n",
       "화물차/보행자             1.087154\n",
       "승합차/자전거             1.076190\n",
       "농기계/없음              1.069565\n",
       "농기계/보행자             1.066667\n",
       "자전거/승용차             1.062500\n",
       "승용차/자전거             1.060976\n",
       "원동기장치자전거/건설기계       1.047619\n",
       "건설기계/없음             1.032258\n",
       "건설기계/보행자            1.030888\n",
       "자전거/화물차             1.021978\n",
       "화물차/자전거             1.018576\n",
       "사륜오토바이(ATV)/건설기계    1.000000\n",
       "불명/화물차              1.000000\n",
       "화물차/열차              1.000000\n",
       "특수차/자전거             1.000000\n",
       "특수차/이륜차             1.000000\n",
       "특수차/원동기장치자전거        1.000000\n",
       "건설기계/자전거            1.000000\n",
       "자전거/특수차             1.000000\n",
       "자전거/없음              1.000000\n",
       "자전거/불명              1.000000\n",
       "자전거/건설기계            1.000000\n",
       "이륜차/열차              1.000000\n",
       "농기계/승합차             1.000000\n",
       "이륜차/불명              1.000000\n",
       "이륜차/농기계             1.000000\n",
       "원동기장치자전거/불명         1.000000\n",
       "농기계/특수차             1.000000\n",
       "승합차/사륜오토바이(ATV)     1.000000\n",
       "불명/보행자              1.000000\n",
       "불명/불명               1.000000\n",
       "승용차/사륜오토바이(ATV)     1.000000\n",
       "불명/없음               1.000000\n",
       "사륜오토바이(ATV)/승용차     1.000000\n",
       "불명/이륜차              1.000000\n",
       "불명/자전거              1.000000\n",
       "개인형이동수단(PM)/없음      1.000000"
      ]
     },
     "execution_count": 29,
     "metadata": {},
     "output_type": "execute_result"
    }
   ],
   "source": [
    "temp = pd.DataFrame(df.groupby('차량조합').mean().사상자수.sort_values(ascending=False))\n",
    "\n",
    "temp\n",
    "# 이륜차 원동기장치자전거 자전거 사륜오토바이 보행자\n",
    "\n",
    "# 승합차-원동기장치자전거 1.44\n",
    "# 이륜차-승합차 1.42\n",
    "# 승합차-이륜차 1.24\n",
    "# 자전거-승합차 1.17\n",
    "# 승합차-자전거 1.07\n",
    "# 농기계-승합차 1.0\n",
    "# 승합차-사륜오토바이 1\n",
    "# 승합차-보행자 1.13\n"
   ]
  },
  {
   "cell_type": "markdown",
   "metadata": {},
   "source": [
    "- 차종별 평균 사상자수를 보면, 승합차-특수차 조합의 사상자수는 3.75로 높은 반면 특수차-승합차 조합의 사상자수는 2.4로 좀 더 낮은 편이다. 즉 단순 차종조합보다는 어떤차가 가해자이고 어떤 차가 피해자인지에 따라서도 그 피해정도가 달라지는 것 같다.        \n",
    "                               \n",
    "- 특히 평균 사상자수가 높은 상위부분에는 거의 모두 승합차가 포함돼있다. 그만큼 승합차가 사고가 났을 때 그 피해 정도가 크다는 것을 보여준다. \n",
    "                          \n",
    "- 이때 아무리 승합차더라도, 애초에 탑승인원이 적은 보행자, 이륜차, 자전거, 사륜오토바이, 원동기장치자전거와 사고가 나면 평균 사상자수가 적어지는 특징이 있다. (승합차-보행자: 1.13, 승합차-자전거:1.07, 승합차-이륜차:1.24, 승합차-원동기장치자전거:1.44, 이륜차-승합차:1.42, 자전거-승합차:1.17)"
   ]
  },
  {
   "cell_type": "code",
   "execution_count": 30,
   "metadata": {
    "scrolled": true
   },
   "outputs": [
    {
     "data": {
      "image/png": "[encoded data removed]",
      "text/plain": [
       "<Figure size 1800x864 with 1 Axes>"
      ]
     },
     "metadata": {
      "needs_background": "light"
     },
     "output_type": "display_data"
    }
   ],
   "source": [
    "plt.figure(figsize=(25,12))\n",
    "sns.barplot(x=temp.index, y=temp.사상자수)\n",
    "plt.xticks(rotation='vertical');"
   ]
  },
  {
   "cell_type": "markdown",
   "metadata": {},
   "source": [
    "대부분의 경우 차종 조합별로 평균 사상자수가 비슷비슷한 경우도 있지만, 일부 차종에서는 유난히 수치가 높게 나타남. 즉, 사고가 나면 위험한 특정 몇몇 차종 조합이 있다고 생각. 평균 사상자수가 높게 나타나는 상위항목들은 거의 다 승합차가 포함돼있음. "
   ]
  },
  {
   "cell_type": "code",
   "execution_count": 31,
   "metadata": {},
   "outputs": [
    {
     "name": "stdout",
     "output_type": "stream",
     "text": [
      "사고유형_중분류\n",
      "측면충돌       1.000000\n",
      "측면직각충돌    10.333333\n",
      "추돌        12.000000\n",
      "Name: 사상자수, dtype: float64\n",
      "----------------------\n",
      "사고유형_중분류\n",
      "측면충돌      1\n",
      "측면직각충돌    6\n",
      "추돌        1\n",
      "Name: 사상자수, dtype: int64\n"
     ]
    }
   ],
   "source": [
    "print(df[df.차량조합=='건설기계/승합차'].groupby('사고유형_중분류').mean().사상자수.sort_index(ascending=False))\n",
    "print('----------------------')\n",
    "print(df[df.차량조합=='건설기계/승합차'].groupby('사고유형_중분류').count().사상자수.sort_index(ascending=False))"
   ]
  },
  {
   "cell_type": "markdown",
   "metadata": {},
   "source": [
    "이때 똑같은 차종 조합끼리의 사고라도 어떤 사고유형인지에 따라 피해정도가 다를 것이라고 생각해서 좀 더 세분화 하려고 했지만, 세분화 하면 위와같이 각 경우별로 데이터 수가 너무 적어서 더 세분화 하진 않고 차종조합별로 위험도를 계산하기로 함."
   ]
  },
  {
   "cell_type": "code",
   "execution_count": 32,
   "metadata": {},
   "outputs": [
    {
     "data": {
      "text/plain": [
       "count    15022.000000\n",
       "mean        14.273865\n",
       "std          3.866146\n",
       "min         12.000000\n",
       "25%         12.451557\n",
       "50%         12.548387\n",
       "75%         14.298335\n",
       "max         69.782609\n",
       "Name: 차량조합_위험도, dtype: float64"
      ]
     },
     "execution_count": 32,
     "metadata": {},
     "output_type": "execute_result"
    }
   ],
   "source": [
    "total = train_train.groupby(['당사자종별_1당_대분류','당사자종별_2당_대분류']).count().사고유형_중분류\n",
    "#total\n",
    "\n",
    "a = train_train.groupby(['당사자종별_1당_대분류','당사자종별_2당_대분류']).sum().사망자수.sort_index()\n",
    "#a\n",
    "\n",
    "b = train_train.groupby(['당사자종별_1당_대분류','당사자종별_2당_대분류']).sum().총부상자수.sort_index()\n",
    "#b\n",
    "\n",
    "temp = (a*12+b*3)/total\n",
    "\n",
    "temp\n",
    "\n",
    "for i,j in temp.index:\n",
    "    train_train.loc[(train_train.당사자종별_1당_대분류==i)&(train_train.당사자종별_2당_대분류==j),'차량조합_위험도'] = temp[i,j]\n",
    "\n",
    "train_train.차량조합_위험도.describe()"
   ]
  },
  {
   "cell_type": "code",
   "execution_count": 33,
   "metadata": {},
   "outputs": [
    {
     "data": {
      "text/plain": [
       "<matplotlib.axes._subplots.AxesSubplot at 0x135f75978>"
      ]
     },
     "execution_count": 33,
     "metadata": {},
     "output_type": "execute_result"
    },
    {
     "data": {
      "image/png": "[encoded data removed]",
      "text/plain": [
       "<Figure size 432x288 with 1 Axes>"
      ]
     },
     "metadata": {
      "needs_background": "light"
     },
     "output_type": "display_data"
    }
   ],
   "source": [
    "train_train.차량조합_위험도.hist(bins=30)"
   ]
  },
  {
   "cell_type": "markdown",
   "metadata": {},
   "source": [
    "대부분의 차량조합의 위험도는 15안쪽이고, 높은 조합은 69까지도 나타남.       \n",
    "개인적으로는 16을 기준으로 16이상인 차량조합은 위험도가 높은 조합이고, 미만인 조합은 위험도가 낮은 조합으로 볼 수 있지 않을까 생각. "
   ]
  },
  {
   "cell_type": "code",
   "execution_count": 34,
   "metadata": {},
   "outputs": [
    {
     "data": {
      "text/plain": [
       "당사자종별_1당_대분류  당사자종별_2당_대분류\n",
       "승합차           승합차             69.782609\n",
       "건설기계          승합차             64.000000\n",
       "승합차           건설기계            46.800000\n",
       "              화물차             31.187500\n",
       "              승용차             27.230769\n",
       "승용차           열차              27.000000\n",
       "화물차           승합차             25.836735\n",
       "승용차           승합차             24.327869\n",
       "특수차           특수차             24.000000\n",
       "건설기계          승용차             24.000000\n",
       "특수차           승용차             22.666667\n",
       "승합차           없음              22.077670\n",
       "원동기장치자전거      이륜차             21.000000\n",
       "건설기계          특수차             21.000000\n",
       "Name: 차량조합_위험도, dtype: float64"
      ]
     },
     "execution_count": 34,
     "metadata": {},
     "output_type": "execute_result"
    }
   ],
   "source": [
    "train_train[train_train.차량조합_위험도>=20].groupby(['당사자종별_1당_대분류','당사자종별_2당_대분류']).mean().차량조합_위험도.sort_values(ascending=False)"
   ]
  },
  {
   "cell_type": "markdown",
   "metadata": {},
   "source": [
    "특히 위험도가 높은 차종조합 몇몇을 확인해보면, 승합차-승합차가 위험도 69로 압도적으로 가장 위험도가 높았고, 그 밑으로도 건설기계-승합차, 승합차-건설기계, 승합차-화물차, 승합차-승용차의 사고위험도가 높게 나오는 걸 보면, 승합차가 특히 사고났을 때 피해자 수가 높게 나타나는 경향이 있는 것 같다"
   ]
  },
  {
   "cell_type": "code",
   "execution_count": 35,
   "metadata": {},
   "outputs": [],
   "source": [
    "# train data에서 구한 차량조합별 위험도를 test data에 적용\n",
    "\n",
    "\n",
    "temp = train_train.groupby(['당사자종별_1당_대분류','당사자종별_2당_대분류']).mean().차량조합_위험도\n",
    "for i, j in temp.index:\n",
    "    train_test.loc[(train_test.당사자종별_1당_대분류==i)&(train_test.당사자종별_2당_대분류==j),'차량조합_위험도'] = temp[i,j]    "
   ]
  },
  {
   "cell_type": "code",
   "execution_count": 36,
   "metadata": {},
   "outputs": [
    {
     "data": {
      "image/png": "[encoded data removed]",
      "text/plain": [
       "<Figure size 432x288 with 1 Axes>"
      ]
     },
     "metadata": {
      "needs_background": "light"
     },
     "output_type": "display_data"
    }
   ],
   "source": [
    "high=[]\n",
    "low=[]\n",
    "\n",
    "# 사상자수 1\n",
    "total = train_test[(train_test.사상자수==1)].shape[0]\n",
    "a = train_test[(train_test.사상자수==1)&(train_test.차량조합_위험도<=16)].shape[0]\n",
    "b = train_test[(train_test.사상자수==1)&(train_test.차량조합_위험도>16)].shape[0]\n",
    "\n",
    "low.append(a/total)\n",
    "high.append(b/total)\n",
    "\n",
    "# 사상자수 2\n",
    "total = train_test[(train_test.사상자수==2)].shape[0]\n",
    "a = train_test[(train_test.사상자수==2)&(train_test.차량조합_위험도<=16)].shape[0]\n",
    "b = train_test[(train_test.사상자수==2)&(train_test.차량조합_위험도>16)].shape[0]\n",
    "\n",
    "low.append(a/total)\n",
    "high.append(b/total)\n",
    "\n",
    "# 사상자수 3~4\n",
    "total = train_test[(train_test.사상자수>=3)&(train_test.사상자수<=4)].shape[0]\n",
    "a = train_test[(train_test.사상자수>=3)&(train_test.사상자수<=4)&(train_test.차량조합_위험도<=16)].shape[0]\n",
    "b = train_test[(train_test.사상자수>=3)&(train_test.사상자수<=4)&(train_test.차량조합_위험도>16)].shape[0]\n",
    "\n",
    "low.append(a/total)\n",
    "high.append(b/total)\n",
    "\n",
    "# 사상자수 5~8\n",
    "total = train_test[(train_test.사상자수>=5)&(train_test.사상자수<=8)].shape[0]\n",
    "a = train_test[(train_test.사상자수>=5)&(train_test.사상자수<=8)&(train_test.차량조합_위험도<=16)].shape[0]\n",
    "b = train_test[(train_test.사상자수>=5)&(train_test.사상자수<=8)&(train_test.차량조합_위험도>16)].shape[0]\n",
    "\n",
    "low.append(a/total)\n",
    "high.append(b/total)\n",
    "\n",
    "# 사상자수 9~20\n",
    "total = train_test[(train_test.사상자수>=9)&(train_test.사상자수<=20)].shape[0]\n",
    "a = train_test[(train_test.사상자수>=9)&(train_test.사상자수<=20)&(train_test.차량조합_위험도<=16)].shape[0]\n",
    "b = train_test[(train_test.사상자수>=9)&(train_test.사상자수<=20)&(train_test.차량조합_위험도>16)].shape[0]\n",
    "\n",
    "low.append(a/total)\n",
    "high.append(b/total)\n",
    "\n",
    "# 사상자수 20~\n",
    "total = train_test[(train_test.사상자수>=21)].shape[0]\n",
    "a = train_test[(train_test.사상자수>=21)&(train_test.차량조합_위험도<=16)].shape[0]\n",
    "b = train_test[(train_test.사상자수>=21)&(train_test.차량조합_위험도>16)].shape[0]\n",
    "\n",
    "low.append(a/total)\n",
    "high.append(b/total)\n",
    "\n",
    "N = 6 \n",
    "ind = np.arange(N)\n",
    "width = 0.35\n",
    "\n",
    "p1 = plt.bar(ind, low, width)\n",
    "p2 = plt.bar(ind, high, width, bottom=low)\n",
    "\n",
    "#plt.ylabel('주야 비율')\n",
    "plt.xticks(ind, ('1','2','3~4','5~8','9~20','21~'))\n",
    "#plt.legend((p1[0],p2[0]),('주간','야간'))\n",
    "plt.show()"
   ]
  },
  {
   "cell_type": "markdown",
   "metadata": {},
   "source": [
    "앞의 두 위험도가 다르게, 차량조합은 사고의 피해 정도에 매우 많은 영향을 끼치는 것 같다. 보통 사상자수가 높은 사고일수록 차량조합 위험도가 높게 나타나는 사고들의 비율이 매우 높게 나타나는 것을 확인해볼 수 있다. 사상자수가 5명 이상인 사고들은 애초에 많이 일어나지는 않지만, 그래도 일어난다면 차종조합의 위험도가 높을 확률이 높아보인다."
   ]
  },
  {
   "cell_type": "markdown",
   "metadata": {},
   "source": [
    "## 3. 사고유형중분류_위험도"
   ]
  },
  {
   "cell_type": "markdown",
   "metadata": {},
   "source": [
    "사고유형 대분류별로 위험도를 계산할지, 좀 더 세분화된 중분류별로 위험도를 계산할지를 생각해보기위해 사고유형별로 평균 사상자수를 살펴봄"
   ]
  },
  {
   "cell_type": "code",
   "execution_count": 37,
   "metadata": {},
   "outputs": [
    {
     "data": {
      "text/plain": [
       "사고유형_중분류\n",
       "직전진행          3.000000\n",
       "정면충돌          2.640025\n",
       "추돌            2.488006\n",
       "차단기돌파         2.000000\n",
       "측면직각충돌        1.983866\n",
       "측면충돌          1.795302\n",
       "주/정차차량 충돌     1.600000\n",
       "공작물충돌         1.520690\n",
       "기타            1.487429\n",
       "전도            1.424528\n",
       "전도전복          1.417363\n",
       "도로이탈          1.416048\n",
       "전복            1.333333\n",
       "보도통행중         1.295620\n",
       "후진중충돌         1.200000\n",
       "길가장자리구역통행중    1.178344\n",
       "횡단중           1.091098\n",
       "차도통행중         1.076835\n",
       "경보기무시         1.000000\n",
       "Name: 사상자수, dtype: float64"
      ]
     },
     "execution_count": 37,
     "metadata": {},
     "output_type": "execute_result"
    }
   ],
   "source": [
    "df.groupby('사고유형_중분류').mean().사상자수.sort_values(ascending=False)"
   ]
  },
  {
   "cell_type": "markdown",
   "metadata": {},
   "source": [
    "사고유형 대분류가 차대 사람인 사고들의 사고유형 중분류는 횡단중, 차도통행중, 보도통행중, 길가장자리구역통행중인데, 이런 사고유형 중분류들의 평균 사상자수는 보통 낮은 수치를 보여서 차대사람 사고의 피해 규모는 그리 크지 않아보인다."
   ]
  },
  {
   "cell_type": "markdown",
   "metadata": {},
   "source": [
    "반면 사고유형 대분류가 차대차인 사고들의 사고유형 중분류들은 평균 사상자수의 편차가 큰 것 같다. 후진중 충돌은 평균 사상자수가 1.2명으로 낮은 편이고, 정면충돌은 2.64로 매우 높은 편이다. 즉 차대차 사고의 경우 피해의 심각성 정도가 사고유형 중분류별로 편차가 크기 때문에, 사고유형 대분류보다는 더 세세하게 중분류별로 위험도를 파악해야 할 것 같다."
   ]
  },
  {
   "cell_type": "code",
   "execution_count": 38,
   "metadata": {},
   "outputs": [
    {
     "data": {
      "text/plain": [
       "count    15022.000000\n",
       "mean        14.273865\n",
       "std          1.795045\n",
       "min         12.000000\n",
       "25%         12.340360\n",
       "50%         13.770619\n",
       "75%         15.392697\n",
       "max         27.000000\n",
       "Name: 사고유형_위험도, dtype: float64"
      ]
     },
     "execution_count": 38,
     "metadata": {},
     "output_type": "execute_result"
    }
   ],
   "source": [
    "total = train_train.groupby(['사고유형_중분류']).count().당사자종별_1당_대분류\n",
    "#total\n",
    "\n",
    "a = train_train.groupby(['사고유형_중분류']).sum().사망자수.sort_index()\n",
    "#a\n",
    "\n",
    "b = train_train.groupby(['사고유형_중분류']).sum().총부상자수.sort_index()\n",
    "#b\n",
    "\n",
    "temp = (a*12+b*3)/total\n",
    "\n",
    "temp\n",
    "\n",
    "for i in temp.index:\n",
    "    train_train.loc[(train_train.사고유형_중분류==i),'사고유형_위험도'] = temp[i]\n",
    "\n",
    "train_train.사고유형_위험도.describe()"
   ]
  },
  {
   "cell_type": "code",
   "execution_count": 39,
   "metadata": {},
   "outputs": [
    {
     "data": {
      "text/plain": [
       "<matplotlib.axes._subplots.AxesSubplot at 0x1358cab00>"
      ]
     },
     "execution_count": 39,
     "metadata": {},
     "output_type": "execute_result"
    },
    {
     "data": {
      "image/png": "[encoded data removed]",
      "text/plain": [
       "<Figure size 432x288 with 1 Axes>"
      ]
     },
     "metadata": {
      "needs_background": "light"
     },
     "output_type": "display_data"
    }
   ],
   "source": [
    "train_train.사고유형_위험도.hist(bins=30)"
   ]
  },
  {
   "cell_type": "markdown",
   "metadata": {},
   "source": [
    "대부분의 사고유형 중분류의 위험도는 16안쪽이고, 높은 사고유형은 27까지도 나타남.       \n",
    "개인적으로는 16이상인 차량조합은 위험도가 높은 조합이고, 미만인 조합은 위험도가 낮은 조합으로 볼 수 있지 않을까 생각. "
   ]
  },
  {
   "cell_type": "code",
   "execution_count": 40,
   "metadata": {},
   "outputs": [
    {
     "data": {
      "text/plain": [
       "사고유형_중분류\n",
       "직전진행     27.000000\n",
       "차단기돌파    19.500000\n",
       "정면충돌     17.849693\n",
       "추돌       17.502783\n",
       "Name: 사고유형_위험도, dtype: float64"
      ]
     },
     "execution_count": 40,
     "metadata": {},
     "output_type": "execute_result"
    }
   ],
   "source": [
    "train_train[train_train.사고유형_위험도>=16].groupby(['사고유형_중분류']).mean().사고유형_위험도.sort_values(ascending=False)"
   ]
  },
  {
   "cell_type": "markdown",
   "metadata": {},
   "source": [
    "특히 위험도가 높은 사고유형을 보면, 직전진행이 27로 가장 높고, 그다음이 차단기돌파, 정면충돌, 추돌사고가 위험도가 높게 나타난다."
   ]
  },
  {
   "cell_type": "code",
   "execution_count": 41,
   "metadata": {},
   "outputs": [
    {
     "data": {
      "text/plain": [
       "count    10015.000000\n",
       "mean        14.265647\n",
       "std          1.764440\n",
       "min         12.000000\n",
       "25%         12.832258\n",
       "50%         13.770619\n",
       "75%         15.392697\n",
       "max         17.849693\n",
       "Name: 사고유형_위험도, dtype: float64"
      ]
     },
     "execution_count": 41,
     "metadata": {},
     "output_type": "execute_result"
    }
   ],
   "source": [
    "# train data에서 구한 사고유형별 위험도를 test data에 적용\n",
    "\n",
    "temp = train_train.groupby(['사고유형_중분류']).mean().사고유형_위험도\n",
    "for i in temp.index:\n",
    "    train_test.loc[(train_test.사고유형_중분류==i),'사고유형_위험도'] = temp[i]    \n",
    "train_test.사고유형_위험도.describe()"
   ]
  },
  {
   "cell_type": "code",
   "execution_count": 43,
   "metadata": {},
   "outputs": [
    {
     "data": {
      "image/png": "[encoded data removed]",
      "text/plain": [
       "<Figure size 432x288 with 1 Axes>"
      ]
     },
     "metadata": {
      "needs_background": "light"
     },
     "output_type": "display_data"
    }
   ],
   "source": [
    "high=[]\n",
    "low=[]\n",
    "\n",
    "# 사상자수 1\n",
    "total = train_test[(train_test.사상자수==1)].shape[0]\n",
    "a = train_test[(train_test.사상자수==1)&(train_test.사고유형_위험도<=16)].shape[0]\n",
    "b = train_test[(train_test.사상자수==1)&(train_test.사고유형_위험도>16)].shape[0]\n",
    "\n",
    "low.append(a/total)\n",
    "high.append(b/total)\n",
    "\n",
    "# 사상자수 2\n",
    "total = train_test[(train_test.사상자수==2)].shape[0]\n",
    "a = train_test[(train_test.사상자수==2)&(train_test.사고유형_위험도<=16)].shape[0]\n",
    "b = train_test[(train_test.사상자수==2)&(train_test.사고유형_위험도>16)].shape[0]\n",
    "\n",
    "low.append(a/total)\n",
    "high.append(b/total)\n",
    "\n",
    "# 사상자수 3~4\n",
    "total = train_test[(train_test.사상자수>=3)&(train_test.사상자수<=4)].shape[0]\n",
    "a = train_test[(train_test.사상자수>=3)&(train_test.사상자수<=4)&(train_test.사고유형_위험도<=16)].shape[0]\n",
    "b = train_test[(train_test.사상자수>=3)&(train_test.사상자수<=4)&(train_test.사고유형_위험도>16)].shape[0]\n",
    "\n",
    "low.append(a/total)\n",
    "high.append(b/total)\n",
    "\n",
    "# 사상자수 5~8\n",
    "total = train_test[(train_test.사상자수>=5)&(train_test.사상자수<=8)].shape[0]\n",
    "a = train_test[(train_test.사상자수>=5)&(train_test.사상자수<=8)&(train_test.사고유형_위험도<=16)].shape[0]\n",
    "b = train_test[(train_test.사상자수>=5)&(train_test.사상자수<=8)&(train_test.사고유형_위험도>16)].shape[0]\n",
    "\n",
    "low.append(a/total)\n",
    "high.append(b/total)\n",
    "\n",
    "# 사상자수 9~20\n",
    "total = train_test[(train_test.사상자수>=9)&(train_test.사상자수<=20)].shape[0]\n",
    "a = train_test[(train_test.사상자수>=9)&(train_test.사상자수<=20)&(train_test.사고유형_위험도<=16)].shape[0]\n",
    "b = train_test[(train_test.사상자수>=9)&(train_test.사상자수<=20)&(train_test.사고유형_위험도>16)].shape[0]\n",
    "\n",
    "low.append(a/total)\n",
    "high.append(b/total)\n",
    "\n",
    "# 사상자수 20~\n",
    "total = train_test[(train_test.사상자수>=21)].shape[0]\n",
    "a = train_test[(train_test.사상자수>=21)&(train_test.사고유형_위험도<=16)].shape[0]\n",
    "b = train_test[(train_test.사상자수>=21)&(train_test.사고유형_위험도>16)].shape[0]\n",
    "\n",
    "low.append(a/total)\n",
    "high.append(b/total)\n",
    "\n",
    "N = 6 \n",
    "ind = np.arange(N)\n",
    "width = 0.35\n",
    "\n",
    "p1 = plt.bar(ind, low, width)\n",
    "p2 = plt.bar(ind, high, width, bottom=low)\n",
    "\n",
    "#plt.ylabel('주야 비율')\n",
    "plt.xticks(ind, ('1','2','3~4','5~8','9~20','21~'))\n",
    "#plt.legend((p1[0],p2[0]),('주간','야간'))\n",
    "plt.show()"
   ]
  },
  {
   "cell_type": "markdown",
   "metadata": {},
   "source": [
    "사고유형_중분류도 사고의 피해 정도에 많은 영향을 끼치는 것 같다. 보통 사상자수가 높은 사고일수록 사고유형 위험도가 높게 나타나는 사고들의 비율이 어느정도 높게 나타나는 것을 확인해볼 수 있다."
   ]
  },
  {
   "cell_type": "markdown",
   "metadata": {},
   "source": [
    "## 4가지 위험도 활용"
   ]
  },
  {
   "cell_type": "markdown",
   "metadata": {},
   "source": [
    "위의 4가지 위험도를 합, 단순평균, 가중평균 내서 비교해본 후, 어떻게 사용할 지를 고민해봄.             \n",
    "                     \n",
    "가중평균같은 경우, 사고피해정도에 영향력이 적어보였던 처음 두 발생시군구_위험도와 발생지시도x요일x주야 위험도는 가중치1, 어느정도 영향력이 있어보였던 사고유형_위험도는 가중치2, 영향력이 많아보였던 차종조합_위험도는 가중치 3을 주기로 함."
   ]
  },
  {
   "cell_type": "code",
   "execution_count": 44,
   "metadata": {
    "scrolled": false
   },
   "outputs": [
    {
     "name": "stderr",
     "output_type": "stream",
     "text": [
      "/Library/Frameworks/Python.framework/Versions/3.7/lib/python3.7/site-packages/ipykernel_launcher.py:1: SettingWithCopyWarning: \n",
      "A value is trying to be set on a copy of a slice from a DataFrame.\n",
      "Try using .loc[row_indexer,col_indexer] = value instead\n",
      "\n",
      "See the caveats in the documentation: http://pandas.pydata.org/pandas-docs/stable/indexing.html#indexing-view-versus-copy\n",
      "  \"\"\"Entry point for launching an IPython kernel.\n",
      "/Library/Frameworks/Python.framework/Versions/3.7/lib/python3.7/site-packages/ipykernel_launcher.py:2: SettingWithCopyWarning: \n",
      "A value is trying to be set on a copy of a slice from a DataFrame.\n",
      "Try using .loc[row_indexer,col_indexer] = value instead\n",
      "\n",
      "See the caveats in the documentation: http://pandas.pydata.org/pandas-docs/stable/indexing.html#indexing-view-versus-copy\n",
      "  \n",
      "/Library/Frameworks/Python.framework/Versions/3.7/lib/python3.7/site-packages/ipykernel_launcher.py:3: SettingWithCopyWarning: \n",
      "A value is trying to be set on a copy of a slice from a DataFrame.\n",
      "Try using .loc[row_indexer,col_indexer] = value instead\n",
      "\n",
      "See the caveats in the documentation: http://pandas.pydata.org/pandas-docs/stable/indexing.html#indexing-view-versus-copy\n",
      "  This is separate from the ipykernel package so we can avoid doing imports until\n"
     ]
    },
    {
     "data": {
      "text/html": [
       "<div>\n",
       "<style scoped>\n",
       "    .dataframe tbody tr th:only-of-type {\n",
       "        vertical-align: middle;\n",
       "    }\n",
       "\n",
       "    .dataframe tbody tr th {\n",
       "        vertical-align: top;\n",
       "    }\n",
       "\n",
       "    .dataframe thead th {\n",
       "        text-align: right;\n",
       "    }\n",
       "</style>\n",
       "<table border=\"1\" class=\"dataframe\">\n",
       "  <thead>\n",
       "    <tr style=\"text-align: right;\">\n",
       "      <th></th>\n",
       "      <th>위험도합</th>\n",
       "      <th>위험도평균</th>\n",
       "      <th>위험도가중평균</th>\n",
       "    </tr>\n",
       "  </thead>\n",
       "  <tbody>\n",
       "    <tr>\n",
       "      <th>22192</th>\n",
       "      <td>53.819662</td>\n",
       "      <td>13.454915</td>\n",
       "      <td>22.734202</td>\n",
       "    </tr>\n",
       "    <tr>\n",
       "      <th>20239</th>\n",
       "      <td>52.982943</td>\n",
       "      <td>13.245736</td>\n",
       "      <td>22.556604</td>\n",
       "    </tr>\n",
       "    <tr>\n",
       "      <th>20989</th>\n",
       "      <td>58.036769</td>\n",
       "      <td>14.509192</td>\n",
       "      <td>25.172380</td>\n",
       "    </tr>\n",
       "    <tr>\n",
       "      <th>18177</th>\n",
       "      <td>54.773560</td>\n",
       "      <td>13.693390</td>\n",
       "      <td>23.004258</td>\n",
       "    </tr>\n",
       "    <tr>\n",
       "      <th>14464</th>\n",
       "      <td>54.200541</td>\n",
       "      <td>13.550135</td>\n",
       "      <td>22.805576</td>\n",
       "    </tr>\n",
       "  </tbody>\n",
       "</table>\n",
       "</div>"
      ],
      "text/plain": [
       "            위험도합      위험도평균    위험도가중평균\n",
       "22192  53.819662  13.454915  22.734202\n",
       "20239  52.982943  13.245736  22.556604\n",
       "20989  58.036769  14.509192  25.172380\n",
       "18177  54.773560  13.693390  23.004258\n",
       "14464  54.200541  13.550135  22.805576"
      ]
     },
     "execution_count": 44,
     "metadata": {},
     "output_type": "execute_result"
    }
   ],
   "source": [
    "train_test['위험도합']=train_test.발생시군구_위험도 + train_test.발생지시도x요일x주야_위험도 + train_test.차량조합_위험도 + train_test.사고유형_위험도\n",
    "train_test['위험도평균']=train_test.위험도합 / 4\n",
    "train_test['위험도가중평균']= (train_test.발생시군구_위험도 + train_test.발생지시도x요일x주야_위험도 + train_test.차량조합_위험도*3 + train_test.사고유형_위험도*2)/4\n",
    "\n",
    "train_test[['위험도합','위험도평균','위험도가중평균']].head()"
   ]
  },
  {
   "cell_type": "code",
   "execution_count": 45,
   "metadata": {},
   "outputs": [
    {
     "name": "stdout",
     "output_type": "stream",
     "text": [
      "count    10006.000000\n",
      "mean        57.077518\n",
      "std          5.408939\n",
      "min         49.690955\n",
      "25%         53.718797\n",
      "50%         55.624031\n",
      "75%         58.970989\n",
      "max        117.443093\n",
      "Name: 위험도합, dtype: float64\n",
      "---------------------------\n",
      "count    10006.000000\n",
      "mean        14.269379\n",
      "std          1.352235\n",
      "min         12.422739\n",
      "25%         13.429699\n",
      "50%         13.906008\n",
      "75%         14.742747\n",
      "max         29.360773\n",
      "Name: 위험도평균, dtype: float64\n",
      "---------------------------\n",
      "count    10006.000000\n",
      "mean        24.969630\n",
      "std          3.585378\n",
      "min         21.688068\n",
      "25%         22.878711\n",
      "50%         23.876750\n",
      "75%         25.530000\n",
      "max         68.714501\n",
      "Name: 위험도가중평균, dtype: float64\n"
     ]
    }
   ],
   "source": [
    "print(train_test.위험도합.describe())\n",
    "print('---------------------------')\n",
    "print(train_test.위험도평균.describe())\n",
    "print('---------------------------')\n",
    "print(train_test.위험도가중평균.describe())\n"
   ]
  },
  {
   "cell_type": "markdown",
   "metadata": {},
   "source": [
    "- 위험도합: 60 이상부터 위험한 사고라고 생각.\n",
    "- 위험도평균: 16 이상부터 위험한 사고라고 생각.\n",
    "- 위험도가중평균: 27 이상부터 위험한 사고라고 생각."
   ]
  },
  {
   "cell_type": "code",
   "execution_count": 46,
   "metadata": {},
   "outputs": [],
   "source": [
    "high_1=[]\n",
    "low_1=[]\n",
    "\n",
    "# 사상자수 1\n",
    "total = train_test[(train_test.사상자수==1)].shape[0]\n",
    "a = train_test[(train_test.사상자수==1)&(train_test.위험도합<=60)].shape[0]\n",
    "b = train_test[(train_test.사상자수==1)&(train_test.위험도합>60)].shape[0]\n",
    "\n",
    "low_1.append(a/total)\n",
    "high_1.append(b/total)\n",
    "\n",
    "# 사상자수 2\n",
    "total = train_test[(train_test.사상자수==2)].shape[0]\n",
    "a = train_test[(train_test.사상자수==2)&(train_test.위험도합<=60)].shape[0]\n",
    "b = train_test[(train_test.사상자수==2)&(train_test.위험도합>60)].shape[0]\n",
    "\n",
    "low_1.append(a/total)\n",
    "high_1.append(b/total)\n",
    "\n",
    "# 사상자수 3~4\n",
    "total = train_test[(train_test.사상자수>=3)&(train_test.사상자수<=4)].shape[0]\n",
    "a = train_test[(train_test.사상자수>=3)&(train_test.사상자수<=4)&(train_test.위험도합<=60)].shape[0]\n",
    "b = train_test[(train_test.사상자수>=3)&(train_test.사상자수<=4)&(train_test.위험도합>60)].shape[0]\n",
    "\n",
    "low_1.append(a/total)\n",
    "high_1.append(b/total)\n",
    "\n",
    "# 사상자수 5~8\n",
    "total = train_test[(train_test.사상자수>=5)&(train_test.사상자수<=8)].shape[0]\n",
    "a = train_test[(train_test.사상자수>=5)&(train_test.사상자수<=8)&(train_test.위험도합<=60)].shape[0]\n",
    "b = train_test[(train_test.사상자수>=5)&(train_test.사상자수<=8)&(train_test.위험도합>60)].shape[0]\n",
    "\n",
    "low_1.append(a/total)\n",
    "high_1.append(b/total)\n",
    "\n",
    "# 사상자수 9~20\n",
    "total = train_test[(train_test.사상자수>=9)&(train_test.사상자수<=20)].shape[0]\n",
    "a = train_test[(train_test.사상자수>=9)&(train_test.사상자수<=20)&(train_test.위험도합<=60)].shape[0]\n",
    "b = train_test[(train_test.사상자수>=9)&(train_test.사상자수<=20)&(train_test.위험도합>60)].shape[0]\n",
    "\n",
    "low_1.append(a/total)\n",
    "high_1.append(b/total)\n",
    "\n",
    "# 사상자수 20~\n",
    "total = train_test[(train_test.사상자수>=21)].shape[0]\n",
    "a = train_test[(train_test.사상자수>=21)&(train_test.위험도합<=60)].shape[0]\n",
    "b = train_test[(train_test.사상자수>=21)&(train_test.위험도합>60)].shape[0]\n",
    "\n",
    "low_1.append(a/total)\n",
    "high_1.append(b/total)"
   ]
  },
  {
   "cell_type": "code",
   "execution_count": 47,
   "metadata": {},
   "outputs": [],
   "source": [
    "high_2=[]\n",
    "low_2=[]\n",
    "\n",
    "# 사상자수 1\n",
    "total = train_test[(train_test.사상자수==1)].shape[0]\n",
    "a = train_test[(train_test.사상자수==1)&(train_test.위험도평균<=16)].shape[0]\n",
    "b = train_test[(train_test.사상자수==1)&(train_test.위험도평균>16)].shape[0]\n",
    "\n",
    "low_2.append(a/total)\n",
    "high_2.append(b/total)\n",
    "\n",
    "# 사상자수 2\n",
    "total = train_test[(train_test.사상자수==2)].shape[0]\n",
    "a = train_test[(train_test.사상자수==2)&(train_test.위험도평균<=16)].shape[0]\n",
    "b = train_test[(train_test.사상자수==2)&(train_test.위험도평균>16)].shape[0]\n",
    "\n",
    "low_2.append(a/total)\n",
    "high_2.append(b/total)\n",
    "\n",
    "# 사상자수 3~4\n",
    "total = train_test[(train_test.사상자수>=3)&(train_test.사상자수<=4)].shape[0]\n",
    "a = train_test[(train_test.사상자수>=3)&(train_test.사상자수<=4)&(train_test.위험도평균<=16)].shape[0]\n",
    "b = train_test[(train_test.사상자수>=3)&(train_test.사상자수<=4)&(train_test.위험도평균>16)].shape[0]\n",
    "\n",
    "low_2.append(a/total)\n",
    "high_2.append(b/total)\n",
    "\n",
    "# 사상자수 5~8\n",
    "total = train_test[(train_test.사상자수>=5)&(train_test.사상자수<=8)].shape[0]\n",
    "a = train_test[(train_test.사상자수>=5)&(train_test.사상자수<=8)&(train_test.위험도평균<=16)].shape[0]\n",
    "b = train_test[(train_test.사상자수>=5)&(train_test.사상자수<=8)&(train_test.위험도평균>16)].shape[0]\n",
    "\n",
    "low_2.append(a/total)\n",
    "high_2.append(b/total)\n",
    "\n",
    "# 사상자수 9~20\n",
    "total = train_test[(train_test.사상자수>=9)&(train_test.사상자수<=20)].shape[0]\n",
    "a = train_test[(train_test.사상자수>=9)&(train_test.사상자수<=20)&(train_test.위험도평균<=16)].shape[0]\n",
    "b = train_test[(train_test.사상자수>=9)&(train_test.사상자수<=20)&(train_test.위험도평균>16)].shape[0]\n",
    "\n",
    "low_2.append(a/total)\n",
    "high_2.append(b/total)\n",
    "\n",
    "# 사상자수 20~\n",
    "total = train_test[(train_test.사상자수>=21)].shape[0]\n",
    "a = train_test[(train_test.사상자수>=21)&(train_test.위험도평균<=16)].shape[0]\n",
    "b = train_test[(train_test.사상자수>=21)&(train_test.위험도평균>16)].shape[0]\n",
    "\n",
    "low_2.append(a/total)\n",
    "high_2.append(b/total)"
   ]
  },
  {
   "cell_type": "code",
   "execution_count": 48,
   "metadata": {},
   "outputs": [],
   "source": [
    "high_3=[]\n",
    "low_3=[]\n",
    "\n",
    "# 사상자수 1\n",
    "total = train_test[(train_test.사상자수==1)].shape[0]\n",
    "a = train_test[(train_test.사상자수==1)&(train_test.위험도가중평균<=27)].shape[0]\n",
    "b = train_test[(train_test.사상자수==1)&(train_test.위험도가중평균>27)].shape[0]\n",
    "\n",
    "low_3.append(a/total)\n",
    "high_3.append(b/total)\n",
    "\n",
    "# 사상자수 2\n",
    "total = train_test[(train_test.사상자수==2)].shape[0]\n",
    "a = train_test[(train_test.사상자수==2)&(train_test.위험도가중평균<=27)].shape[0]\n",
    "b = train_test[(train_test.사상자수==2)&(train_test.위험도가중평균>27)].shape[0]\n",
    "\n",
    "low_3.append(a/total)\n",
    "high_3.append(b/total)\n",
    "\n",
    "# 사상자수 3~4\n",
    "total = train_test[(train_test.사상자수>=3)&(train_test.사상자수<=4)].shape[0]\n",
    "a = train_test[(train_test.사상자수>=3)&(train_test.사상자수<=4)&(train_test.위험도가중평균<=27)].shape[0]\n",
    "b = train_test[(train_test.사상자수>=3)&(train_test.사상자수<=4)&(train_test.위험도가중평균>27)].shape[0]\n",
    "\n",
    "low_3.append(a/total)\n",
    "high_3.append(b/total)\n",
    "\n",
    "# 사상자수 5~8\n",
    "total = train_test[(train_test.사상자수>=5)&(train_test.사상자수<=8)].shape[0]\n",
    "a = train_test[(train_test.사상자수>=5)&(train_test.사상자수<=8)&(train_test.위험도가중평균<=27)].shape[0]\n",
    "b = train_test[(train_test.사상자수>=5)&(train_test.사상자수<=8)&(train_test.위험도가중평균>27)].shape[0]\n",
    "\n",
    "low_3.append(a/total)\n",
    "high_3.append(b/total)\n",
    "\n",
    "# 사상자수 9~20\n",
    "total = train_test[(train_test.사상자수>=9)&(train_test.사상자수<=20)].shape[0]\n",
    "a = train_test[(train_test.사상자수>=9)&(train_test.사상자수<=20)&(train_test.위험도가중평균<=27)].shape[0]\n",
    "b = train_test[(train_test.사상자수>=9)&(train_test.사상자수<=20)&(train_test.위험도가중평균>27)].shape[0]\n",
    "\n",
    "low_3.append(a/total)\n",
    "high_3.append(b/total)\n",
    "\n",
    "# 사상자수 20~\n",
    "total = train_test[(train_test.사상자수>=21)].shape[0]\n",
    "a = train_test[(train_test.사상자수>=21)&(train_test.위험도가중평균<=27)].shape[0]\n",
    "b = train_test[(train_test.사상자수>=21)&(train_test.위험도가중평균>27)].shape[0]\n",
    "\n",
    "low_3.append(a/total)\n",
    "high_3.append(b/total)"
   ]
  },
  {
   "cell_type": "code",
   "execution_count": 49,
   "metadata": {},
   "outputs": [
    {
     "data": {
      "image/png": "[encoded data removed]",
      "text/plain": [
       "<Figure size 1800x864 with 3 Axes>"
      ]
     },
     "metadata": {
      "needs_background": "light"
     },
     "output_type": "display_data"
    }
   ],
   "source": [
    "N = 6 \n",
    "ind = np.arange(N)\n",
    "width = 0.35\n",
    "\n",
    "fig= plt.figure(figsize=(25,12))\n",
    "\n",
    "ax=fig.add_subplot(1,3,1)\n",
    "p1 = plt.bar(ind, low_1, width)\n",
    "p2 = plt.bar(ind, high_1, width, bottom=low_1)\n",
    "plt.xticks(ind, ('1','2','3~4','5~8','9~20','21~'))\n",
    "plt.title('위험도합',fontsize=20)\n",
    "\n",
    "ax=fig.add_subplot(1,3,2)\n",
    "p1 = plt.bar(ind, low_2, width)\n",
    "p2 = plt.bar(ind, high_2, width, bottom=low_2)\n",
    "plt.xticks(ind, ('1','2','3~4','5~8','9~20','21~'))\n",
    "plt.title('위험도평균',fontsize=20)\n",
    "\n",
    "ax=fig.add_subplot(1,3,3)\n",
    "p1 = plt.bar(ind, low_3, width)\n",
    "p2 = plt.bar(ind, high_3, width, bottom=low_3)\n",
    "plt.xticks(ind, ('1','2','3~4','5~8','9~20','21~'))\n",
    "plt.title('위험도가중평균',fontsize=20)\n",
    "\n",
    "\n",
    "plt.show()"
   ]
  },
  {
   "cell_type": "markdown",
   "metadata": {},
   "source": [
    "위험도라는 변수를 이용해서 피해규모가 작은 사고와 피해규모가 큰 사고를 잘 구분해내는게 목적. 그런데 위험도합이나, 위험도 가중평균같은 경우는 피해규모가 그렇게 크지 않은 사상자수고 2명이나 3~4명인 사고들에서도 위험도가 높게 나타나는 비율이 조금 높게 나오는 것 같다. "
   ]
  },
  {
   "cell_type": "markdown",
   "metadata": {},
   "source": [
    "이와 달리 위험도평균은 사상자수가 3~4명인 사고들에서는 위험도 수치가 높게 나타나는 비율이 적고, 사상자수가 5~8명인 사고에서는 그 비율이 조금 늘어나긴 하지만 반을 넘어가진 않고, 사상자수가 9명 이상인 실제로 피해가 크다고 생각되는 사고들부터는 위험도 수치가 높게 나타나는 비율이 상당히 높아진다. "
   ]
  },
  {
   "cell_type": "markdown",
   "metadata": {},
   "source": [
    "이에 위험도 평균 변수가 사고피해정도가 작은 사고와 큰 사고를 더 잘 구분지어줄 수 있다고 생각해서, 최종적으로는 위험도 평균을 사용하고자 한다."
   ]
  },
  {
   "cell_type": "markdown",
   "metadata": {},
   "source": [
    "# 결론"
   ]
  },
  {
   "cell_type": "markdown",
   "metadata": {},
   "source": [
    "발생지시군구_위험도, 발생지시도x요일x주야_위험도, 차량조합_위험도, 사고유형_위험도 4가지 변수를 만든 후, 이 4가지 변수를 단순 평균한 위험도평균 변수를 사용하기."
   ]
  },
  {
   "cell_type": "code",
   "execution_count": 50,
   "metadata": {},
   "outputs": [],
   "source": [
    "# 발생지시군구_위험도\n",
    "\n",
    "total= df.groupby(['발생지시도','발생지시군구']).count().주야.sort_index()\n",
    "a = df.groupby(['발생지시도','발생지시군구']).sum().사망자수.sort_index()\n",
    "b = df.groupby(['발생지시도','발생지시군구']).sum().총부상자수.sort_index()\n",
    "temp=(a*12+b*3)/total\n",
    "\n",
    "for i,j in temp.index:\n",
    "    df.loc[(df.발생지시도==i)&(df.발생지시군구==j),'발생지시군구_위험도'] = temp[i,j]\n",
    "\n",
    "#df.발생지시군구_위험도.describe()\n",
    "\n",
    "# 발생지시도x요일x주야_위험도\n",
    "\n",
    "total = df.groupby(['발생지시도','요일','주야']).count().도로형태.sort_index()\n",
    "a = df.groupby(['발생지시도','요일','주야']).sum().사망자수.sort_index()\n",
    "b = df.groupby(['발생지시도','요일','주야']).sum().총부상자수.sort_index()\n",
    "temp = (a*12+b*3)/total\n",
    "\n",
    "for i,j,k in temp.index:\n",
    "    df.loc[(df.발생지시도==i)&(df.요일==j)&(df.주야==k),'발생지시도x요일x주야_위험도'] = temp[i,j,k]\n",
    "\n",
    "#df.발생지시도x요일x주야_위험도.describe()\n",
    "\n",
    "# 차량조합_위험도\n",
    "\n",
    "total = df.groupby(['당사자종별_1당_대분류','당사자종별_2당_대분류']).count().사고유형_중분류\n",
    "a = df.groupby(['당사자종별_1당_대분류','당사자종별_2당_대분류']).sum().사망자수.sort_index()\n",
    "b = df.groupby(['당사자종별_1당_대분류','당사자종별_2당_대분류']).sum().총부상자수.sort_index()\n",
    "temp = (a*12+b*3)/total\n",
    "\n",
    "for i,j in temp.index:\n",
    "    df.loc[(df.당사자종별_1당_대분류==i)&(df.당사자종별_2당_대분류==j),'차량조합_위험도'] = temp[i,j]\n",
    "\n",
    "#df.차량조합_위험도.describe()\n",
    "\n",
    "# 사고유형_위험도\n",
    "\n",
    "total = df.groupby(['사고유형_중분류']).count().당사자종별_1당_대분류\n",
    "a = df.groupby(['사고유형_중분류']).sum().사망자수.sort_index()\n",
    "b = df.groupby(['사고유형_중분류']).sum().총부상자수.sort_index()\n",
    "temp = (a*12+b*3)/total\n",
    "\n",
    "for i in temp.index:\n",
    "    df.loc[(df.사고유형_중분류==i),'사고유형_위험도'] = temp[i]\n",
    "\n",
    "#df.사고유형_위험도.describe()"
   ]
  },
  {
   "cell_type": "code",
   "execution_count": 51,
   "metadata": {},
   "outputs": [
    {
     "data": {
      "text/plain": [
       "count    25037.000000\n",
       "mean        14.232656\n",
       "std          1.234693\n",
       "min         12.416826\n",
       "25%         13.411554\n",
       "50%         13.898207\n",
       "75%         14.671503\n",
       "max         30.473617\n",
       "Name: 위험도평균, dtype: float64"
      ]
     },
     "execution_count": 51,
     "metadata": {},
     "output_type": "execute_result"
    }
   ],
   "source": [
    "# 위험도평균\n",
    "\n",
    "df['위험도평균']=(df.발생지시군구_위험도+df.발생지시도x요일x주야_위험도+df.차량조합_위험도+df.사고유형_위험도)/ 4\n",
    "\n",
    "df.위험도평균.describe()"
   ]
  }
 ],
 "metadata": {
  "kernelspec": {
   "display_name": "Python 3",
   "language": "python",
   "name": "python3"
  },
  "language_info": {
   "codemirror_mode": {
    "name": "ipython",
    "version": 3
   },
   "file_extension": ".py",
   "mimetype": "text/x-python",
   "name": "python",
   "nbconvert_exporter": "python",
   "pygments_lexer": "ipython3",
   "version": "3.7.3"
  }
 },
 "nbformat": 4,
 "nbformat_minor": 2
}
