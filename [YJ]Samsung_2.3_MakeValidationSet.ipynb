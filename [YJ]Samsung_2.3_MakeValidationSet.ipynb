{
 "cells": [
  {
   "cell_type": "code",
   "execution_count": 1,
   "metadata": {},
   "outputs": [],
   "source": [
    "%run [YJ]Samsung.Step2_2_Binning.ipynb"
   ]
  },
  {
   "cell_type": "code",
   "execution_count": 2,
   "metadata": {},
   "outputs": [],
   "source": [
    "import random"
   ]
  },
  {
   "cell_type": "code",
   "execution_count": 3,
   "metadata": {},
   "outputs": [],
   "source": [
    "pd.set_option('display.max_columns',500)\n",
    "pd.set_option('display.max_rows',500)"
   ]
  },
  {
   "cell_type": "code",
   "execution_count": 4,
   "metadata": {},
   "outputs": [],
   "source": [
    "### test data 불러오기 ###\n",
    "df_test = pd.read_csv('Data/교통사망사고정보/test_kor.csv',encoding='CP949',engine='python')\n",
    "\n",
    "### test 데이터 전처리 ###\n",
    "\n",
    "df_test.loc[df_test.발생지시군구=='연기군','발생지시군구']='세종'\n",
    "df_test.loc[(df_test.발생지시도=='충남')&(df_test.발생지시군구=='세종'),'발생지시도']='세종'\n",
    "\n",
    "# 충북 청원군 -> 충북 청주시 변경 (14년 7월)\n",
    "df_test.loc[df_test.발생지시군구=='청원군','발생지시군구']='청주시'\n",
    "    \n",
    "#발생지 변수\n",
    "df_test['발생지']=df_test['발생지시도']+df_test['발생지시군구']\n",
    "df_test['발생지'].replace('경남창원시(통합)','경남창원시',inplace=True)\n",
    "\n",
    "df_test = change(df_test, highway, jaywalk, elder, child, bike, school, danger, nmf )\n",
    "\n",
    "df_test.to_csv('Data/교통사망사고정보/test_kor_feature.csv',encoding='CP949')"
   ]
  },
  {
   "cell_type": "code",
   "execution_count": 5,
   "metadata": {},
   "outputs": [],
   "source": [
    "def train_validation_set(df):\n",
    "    shuffled_index = np.random.permutation(df.shape[0])\n",
    "    validation_index=shuffled_index[:5000]\n",
    "    train_index= shuffled_index[5000:]\n",
    "    \n",
    "    df_validation = df.iloc[validation_index]\n",
    "    df_train = df.iloc[train_index]\n",
    "    \n",
    "    df_validation1_answer = df_validation.iloc[:1000,:]\n",
    "    df_validation2_answer = df_validation.iloc[1000:2000,:]\n",
    "    df_validation3_answer = df_validation.iloc[2000:3000,:]\n",
    "    df_validation4_answer = df_validation.iloc[3000:4000,:]\n",
    "    df_validation5_answer = df_validation.iloc[4000:5000,:]\n",
    "    \n",
    "    n = df_validation1_answer.shape[0]\n",
    "    threshold=[0]\n",
    "    threshold.append(int(round(n*2/50,0)))\n",
    "    threshold.append(int(round(n*2/50,0)))\n",
    "    threshold.append(int(round(n*3/50,0)))\n",
    "    threshold.append(int(round(n*3/50,0)))\n",
    "    threshold.append(int(round(n*10/50,0)))\n",
    "    threshold.append(int(round(n*3/50,0)))\n",
    "    threshold.append(int(round(n*3/50,0)))\n",
    "    threshold.append(int(round(n*4/50,0)))\n",
    "    threshold.append(int(round(n*2/50,0)))\n",
    "    threshold.append(int(round(n*3/50,0)))\n",
    "    threshold.append(int(round(n*5/50,0)))\n",
    "    threshold.append(int(round(n*2/50,0)))\n",
    "    threshold.append(int(round(n*3/50,0)))\n",
    "    threshold.append(int(round(n*2/50,0)))\n",
    "    threshold.append(int(round(n*3/50,0)))\n",
    "    \n",
    "    df_validation1_problem = df_validation1_answer.copy()\n",
    "    df_validation2_problem = df_validation2_answer.copy()\n",
    "    df_validation3_problem = df_validation3_answer.copy()\n",
    "    df_validation4_problem = df_validation4_answer.copy()\n",
    "    df_validation5_problem = df_validation5_answer.copy()\n",
    "    \n",
    "    for val in [df_validation1_problem,df_validation2_problem,df_validation3_problem,df_validation4_problem,df_validation5_problem]:\n",
    "        val.iloc[threshold[0]:threshold[1],[2,3,5]] = None\n",
    "        val.iloc[threshold[1]:threshold[2],[3,4,6]] = None\n",
    "        val.iloc[threshold[2]:threshold[3],[3,4,5]] = None\n",
    "        val.iloc[threshold[3]:threshold[4],[2,3,4]] = None\n",
    "        val.iloc[threshold[4]:threshold[5],[9,10,11,35]] = None\n",
    "        val.iloc[threshold[5]:threshold[6],[12,13,14,34]] = None\n",
    "        val.iloc[threshold[6]:threshold[7],[12,13,15,34]] = None\n",
    "        val.iloc[threshold[7]:threshold[8],[12,13,14,15,34]] = None\n",
    "        val.iloc[threshold[8]:threshold[9],[2,3,8,16,17,18,19,20,21,22,23,24,25,26,27,28,29,30,31,32]] = None\n",
    "        val.iloc[threshold[9]:threshold[10],[4,5,8,16,17,18,19,20,21,22,23,24,25,26,27,28,29,30,31,32]] = None\n",
    "        val.iloc[threshold[10]:threshold[11],[7,8,16,17,18,19,20,21,22,23,24,25,26,27,28,29,30,31,32,33]] = None\n",
    "        val.iloc[threshold[11]:threshold[12],[1,9,10,33]] = None\n",
    "        val.iloc[threshold[12]:threshold[13],[1,10,11,12,33]] = None\n",
    "        val.iloc[threshold[13]:threshold[14],[0,2,3,14,33]] = None\n",
    "        val.iloc[threshold[14]:threshold[15],[0,3,4,13,33]] = None\n",
    "        \n",
    "    \n",
    "    validation_set = {'problem1':df_validation1_problem, 'answer1': df_validation1_answer,\n",
    "                      'problem2':df_validation2_problem, 'answer2': df_validation2_answer,\n",
    "                      'problem3':df_validation3_problem, 'answer3': df_validation3_answer,\n",
    "                      'problem4':df_validation4_problem, 'answer4': df_validation4_answer,\n",
    "                      'problem5':df_validation5_problem, 'answer5': df_validation5_answer,}\n",
    "    \n",
    "    return df_train, validation_set"
   ]
  }
 ],
 "metadata": {
  "kernelspec": {
   "display_name": "Python 3",
   "language": "python",
   "name": "python3"
  },
  "language_info": {
   "codemirror_mode": {
    "name": "ipython",
    "version": 3
   },
   "file_extension": ".py",
   "mimetype": "text/x-python",
   "name": "python",
   "nbconvert_exporter": "python",
   "pygments_lexer": "ipython3",
   "version": "3.7.3"
  }
 },
 "nbformat": 4,
 "nbformat_minor": 2
}
