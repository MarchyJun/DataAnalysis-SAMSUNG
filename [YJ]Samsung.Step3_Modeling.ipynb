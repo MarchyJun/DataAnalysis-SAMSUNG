{
 "cells": [
  {
   "cell_type": "code",
   "execution_count": 1,
   "metadata": {},
   "outputs": [],
   "source": [
    "%run [YJ]Samsung.Step2_3_MakeValidationSet.ipynb"
   ]
  },
  {
   "cell_type": "code",
   "execution_count": 5,
   "metadata": {},
   "outputs": [],
   "source": [
    "from pomegranate import *\n",
    "from joblib import Parallel, delayed\n",
    "import matplotlib.pyplot as plt\n",
    "import pygraphviz\n",
    "from sklearn.preprocessing import LabelEncoder"
   ]
  },
  {
   "cell_type": "markdown",
   "metadata": {},
   "source": [
    "## Split train validation set"
   ]
  },
  {
   "cell_type": "code",
   "execution_count": 6,
   "metadata": {},
   "outputs": [
    {
     "data": {
      "text/plain": [
       "(25037, 37)"
      ]
     },
     "execution_count": 6,
     "metadata": {},
     "output_type": "execute_result"
    }
   ],
   "source": [
    "df.shape"
   ]
  },
  {
   "cell_type": "code",
   "execution_count": 7,
   "metadata": {},
   "outputs": [],
   "source": [
    "np.random.seed(100)\n",
    "chosen_idx = np.random.choice(len(df), replace=False, size=int(len(df) * 0.8))\n",
    "\n",
    "df_train = df.iloc[chosen_idx]\n",
    "df_test = df.iloc[np.setdiff1d(df.index, chosen_idx)]"
   ]
  },
  {
   "cell_type": "code",
   "execution_count": 8,
   "metadata": {},
   "outputs": [
    {
     "data": {
      "text/plain": [
       "((20029, 37), (5008, 37))"
      ]
     },
     "execution_count": 8,
     "metadata": {},
     "output_type": "execute_result"
    }
   ],
   "source": [
    "df_train.shape, df_test.shape"
   ]
  },
  {
   "cell_type": "code",
   "execution_count": 9,
   "metadata": {},
   "outputs": [
    {
     "name": "stderr",
     "output_type": "stream",
     "text": [
      "/Users/youngjun/anaconda3/lib/python3.7/site-packages/ipykernel_launcher.py:1: SettingWithCopyWarning: \n",
      "A value is trying to be set on a copy of a slice from a DataFrame.\n",
      "Try using .loc[row_indexer,col_indexer] = value instead\n",
      "\n",
      "See the caveats in the documentation: http://pandas.pydata.org/pandas-docs/stable/indexing.html#indexing-view-versus-copy\n",
      "  \"\"\"Entry point for launching an IPython kernel.\n",
      "/Users/youngjun/anaconda3/lib/python3.7/site-packages/ipykernel_launcher.py:2: SettingWithCopyWarning: \n",
      "A value is trying to be set on a copy of a slice from a DataFrame.\n",
      "Try using .loc[row_indexer,col_indexer] = value instead\n",
      "\n",
      "See the caveats in the documentation: http://pandas.pydata.org/pandas-docs/stable/indexing.html#indexing-view-versus-copy\n",
      "  \n"
     ]
    },
    {
     "data": {
      "text/plain": [
       "((25037, 38), (20029, 38), (5008, 38))"
      ]
     },
     "execution_count": 9,
     "metadata": {},
     "output_type": "execute_result"
    }
   ],
   "source": [
    "df_train['type'] = 'train'\n",
    "df_test['type'] = 'test'\n",
    "\n",
    "df_concat = pd.concat([df_train, df_test])\n",
    "df_concat.shape, df_train.shape, df_test.shape"
   ]
  },
  {
   "cell_type": "markdown",
   "metadata": {},
   "source": [
    "## Mapping, Encoding, Decoding"
   ]
  },
  {
   "cell_type": "code",
   "execution_count": 11,
   "metadata": {},
   "outputs": [],
   "source": [
    "def get_cat_mapping_set(df):\n",
    "    cat_mapping_set = {}\n",
    "    columns = ['주야', '요일','발생지시도', '발생지시군구','사고유형_대분류', \n",
    "               '사고유형_중분류', '법규위반', '도로형태_대분류', '도로형태', \n",
    "               '당사자종별_1당_대분류','당사자종별_2당_대분류', '발생지']\n",
    "    for col in columns:\n",
    "        le = LabelEncoder()\n",
    "        result = le.fit(df[col])    \n",
    "        cat_mapping_set[col] = result\n",
    "    \n",
    "    return cat_mapping_set\n",
    "\n",
    "\n",
    "def encode_df(df, cat_mapping_set):\n",
    "    \n",
    "    tmp_dic_lst = []\n",
    "    \n",
    "    columns = ['주야', '요일','발생지시도', '발생지시군구','사고유형_대분류', \n",
    "               '사고유형_중분류', '법규위반', '도로형태_대분류', '도로형태', \n",
    "               '당사자종별_1당_대분류','당사자종별_2당_대분류', '발생지']\n",
    "    \n",
    "    for col in columns:\n",
    "        tmp_dic_lst.append(cat_mapping_set[col].transform(df[col]))\n",
    "    \n",
    "    tmp_dic_lst = np.array(tmp_dic_lst)    \n",
    "    combined_df_encoded = pd.DataFrame(np.matrix(tmp_dic_lst.T), columns=columns)\n",
    "    \n",
    "    for col in columns:\n",
    "        df[col] = combined_df_encoded[col]\n",
    "    \n",
    "    return df\n",
    "\n",
    "def decode_df(df_encoded, cat_mapping_set):\n",
    "    \n",
    "    tmp_dic_lst = []\n",
    "    columns = ['주야', '요일','발생지시도', '발생지시군구','사고유형_대분류', \n",
    "               '사고유형_중분류', '법규위반', '도로형태_대분류', '도로형태', \n",
    "               '당사자종별_1당_대분류','당사자종별_2당_대분류', '발생지']\n",
    "    \n",
    "    for col in columns:\n",
    "        tmp_dic_lst.append(cat_mapping_set[col].inverse_transform(df_encoded[col]))\n",
    "    \n",
    "    tmp_dic_lst = np.array(tmp_dic_lst)  \n",
    "    combined_df_decoded = pd.DataFrame(np.matrix(tmp_dic_lst.T), columns=columns) \n",
    "    \n",
    "    for col in columns:\n",
    "        df_encoded[col] = combined_df_decoded[col]\n",
    "    \n",
    "    return df_encoded"
   ]
  },
  {
   "cell_type": "markdown",
   "metadata": {},
   "source": [
    "## type 설정"
   ]
  },
  {
   "cell_type": "code",
   "execution_count": 12,
   "metadata": {},
   "outputs": [],
   "source": [
    "col_order = df.columns"
   ]
  },
  {
   "cell_type": "code",
   "execution_count": 13,
   "metadata": {},
   "outputs": [],
   "source": [
    "dict_var={}\n",
    "for i,c in enumerate(col_order):\n",
    "    dict_var[c] = i\n",
    "    \n",
    "type_1 = [\n",
    "    dict_var['발생지시도'], \n",
    "    dict_var['발생지시군구'], \n",
    "    dict_var['발생지'], \n",
    "    dict_var['발생지시도x요일x주야_위험도'],     \n",
    "    dict_var['노인피해'],\n",
    "    dict_var['노인건수'],\n",
    "    dict_var['어린이피해'],\n",
    "    dict_var['어린이건수'],\n",
    "    dict_var['자전거피해'],\n",
    "    dict_var['자전거건수'],\n",
    "    dict_var['무단횡단피해'],\n",
    "    dict_var['무단횡단건수'],\n",
    "    dict_var['학교피해'],\n",
    "    dict_var['학교건수'],\n",
    "    dict_var['요일_사고유형_NMF1'],\n",
    "    dict_var['요일_사고유형_NMF2'],\n",
    "    dict_var['요일_사고유형_NMF3']\n",
    "]\n",
    "type_2 = [dict_var['사고유형_대분류'], dict_var['사고유형_중분류'], dict_var['법규위반'], dict_var['사고유형_위험도']]\n",
    "type_3 = [dict_var['요일'], dict_var['사고유형_대분류'], dict_var['사고유형_중분류'], dict_var['발생지시도x요일x주야_위험도']]\n",
    "type_4 = [dict_var['요일'], dict_var['사고유형_중분류'], dict_var['법규위반'], dict_var['도로형태_대분류'], dict_var['발생지시도x요일x주야_위험도'], dict_var['사고유형_위험도']]\n",
    "type_5 = [dict_var['도로형태_대분류'], dict_var['도로형태'], dict_var['당사자종별_1당_대분류'], dict_var['당사자종별_2당_대분류'], dict_var['차량조합_위험도']]\n",
    "type_6 = [dict_var['도로형태_대분류'], dict_var['도로형태'], dict_var['당사자종별_1당_대분류'], dict_var['차량조합_위험도']]\n",
    "type_7 = [dict_var['도로형태_대분류'], dict_var['도로형태'], dict_var['당사자종별_2당_대분류'], dict_var['차량조합_위험도'] ]\n",
    "type_8 = [dict_var['주야'], dict_var['당사자종별_1당_대분류'], dict_var['발생지시도x요일x주야_위험도'], dict_var['차량조합_위험도']]\n",
    "type_9 = [dict_var['주야'], dict_var['도로형태'], dict_var['발생지시도x요일x주야_위험도']]\n",
    "type_10 = [\n",
    "    dict_var['발생지시군구'], \n",
    "    dict_var['발생지'], \n",
    "    dict_var['발생지시도x요일x주야_위험도'],    \n",
    "    dict_var['노인피해'],\n",
    "    dict_var['노인건수'],\n",
    "    dict_var['어린이피해'],\n",
    "    dict_var['어린이건수'],\n",
    "    dict_var['자전거피해'],\n",
    "    dict_var['자전거건수'],\n",
    "    dict_var['무단횡단피해'],\n",
    "    dict_var['무단횡단건수'],\n",
    "    dict_var['학교피해'],\n",
    "    dict_var['학교건수'],\n",
    "    dict_var['요일_사고유형_NMF1'],\n",
    "    dict_var['요일_사고유형_NMF2'],\n",
    "    dict_var['요일_사고유형_NMF3'],\n",
    "]\n",
    "\n",
    "type_11 = [dict_var['사망자수'], dict_var['사상자수'], dict_var['경상자수']]\n",
    "type_12 = [dict_var['사상자수'], dict_var['중상자수'], dict_var['부상신고자수']]\n",
    "type_13 = [dict_var['사상자수'], dict_var['중상자수'], dict_var['경상자수']]\n",
    "type_14 = [dict_var['사망자수'], dict_var['중상자수'], dict_var['사상자수']]\n",
    "type_15 = [dict_var['사망자수'], dict_var['사상자수'], dict_var['발생지시군구']]\n",
    "type_16 = [dict_var['중상자수'], dict_var['경상자수'], dict_var['발생지시군구']]\n",
    "type_17 = [dict_var['주야'], dict_var['사망자수'], dict_var['사상자수'], dict_var['당사자종별_1당_대분류']]\n",
    "type_18 = [dict_var['주야'], dict_var['사상자수'], dict_var['중상자수'], dict_var['도로형태']]"
   ]
  },
  {
   "cell_type": "markdown",
   "metadata": {},
   "source": [
    "## Bayesian Network"
   ]
  },
  {
   "cell_type": "markdown",
   "metadata": {},
   "source": [
    "#### binning1"
   ]
  },
  {
   "cell_type": "code",
   "execution_count": 14,
   "metadata": {},
   "outputs": [
    {
     "data": {
      "text/plain": [
       "(25037, 38)"
      ]
     },
     "execution_count": 14,
     "metadata": {},
     "output_type": "execute_result"
    }
   ],
   "source": [
    "df_binned = binning1(df_concat)\n",
    "df_binned.shape"
   ]
  },
  {
   "cell_type": "code",
   "execution_count": 15,
   "metadata": {},
   "outputs": [
    {
     "data": {
      "text/plain": [
       "Index(['주야', '요일', '사망자수', '사상자수', '중상자수', '경상자수', '부상신고자수', '발생지시도', '발생지시군구',\n",
       "       '사고유형_대분류', '사고유형_중분류', '법규위반', '도로형태_대분류', '도로형태', '당사자종별_1당_대분류',\n",
       "       '당사자종별_2당_대분류', '발생지', '총길이', '제한속도', '무단횡단피해', '무단횡단건수', '노인피해',\n",
       "       '노인건수', '어린이피해', '어린이건수', '자전거피해', '자전거건수', '학교피해', '학교건수',\n",
       "       '요일_사고유형_NMF1', '요일_사고유형_NMF2', '요일_사고유형_NMF3', '발생지시군구_위험도',\n",
       "       '발생지시도x요일x주야_위험도', '차량조합_위험도', '사고유형_위험도', '위험도평균', 'type'],\n",
       "      dtype='object')"
      ]
     },
     "execution_count": 15,
     "metadata": {},
     "output_type": "execute_result"
    }
   ],
   "source": [
    "col_names = df_binned.columns\n",
    "col_names"
   ]
  },
  {
   "cell_type": "code",
   "execution_count": 16,
   "metadata": {},
   "outputs": [],
   "source": [
    "cat_mapping_set = get_cat_mapping_set(df_binned)\n",
    "df_encoded = encode_df(df_binned, cat_mapping_set)\n",
    "\n",
    "df_encoded.shape"
   ]
  },
  {
   "cell_type": "code",
   "execution_count": 19,
   "metadata": {},
   "outputs": [],
   "source": [
    "test = df_encoded.loc[df_encoded.type == 'test']\n",
    "train = df_encoded.loc[df_encoded.type == 'train']\n",
    "\n",
    "train.shape, test.shape"
   ]
  },
  {
   "cell_type": "code",
   "execution_count": 21,
   "metadata": {},
   "outputs": [
    {
     "name": "stderr",
     "output_type": "stream",
     "text": [
      "/Users/youngjun/anaconda3/lib/python3.7/site-packages/pandas/core/frame.py:3940: SettingWithCopyWarning: \n",
      "A value is trying to be set on a copy of a slice from a DataFrame\n",
      "\n",
      "See the caveats in the documentation: http://pandas.pydata.org/pandas-docs/stable/indexing.html#indexing-view-versus-copy\n",
      "  errors=errors)\n"
     ]
    }
   ],
   "source": [
    "train.drop(columns=['type'], inplace=True)\n",
    "test.drop(columns=['type'], inplace=True)"
   ]
  },
  {
   "cell_type": "code",
   "execution_count": 22,
   "metadata": {},
   "outputs": [],
   "source": [
    "train_dum = train[col_order]\n",
    "test_dum = test[col_order]"
   ]
  },
  {
   "cell_type": "code",
   "execution_count": 23,
   "metadata": {},
   "outputs": [],
   "source": [
    "for col in col_order:\n",
    "    diff_arr = np.setdiff1d(test_dum[col].unique(), train_dum[col].unique())\n",
    "    test_dum = test_dum.loc[~test_dum[col].isin(diff_arr),:]"
   ]
  },
  {
   "cell_type": "code",
   "execution_count": 24,
   "metadata": {},
   "outputs": [
    {
     "name": "stderr",
     "output_type": "stream",
     "text": [
      "/Users/youngjun/anaconda3/lib/python3.7/site-packages/ipykernel_launcher.py:1: FutureWarning: Method .as_matrix will be removed in a future version. Use .values instead.\n",
      "  \"\"\"Entry point for launching an IPython kernel.\n"
     ]
    }
   ],
   "source": [
    "auto_chow_net = BayesianNetwork.from_samples(train_dum.iloc[:,:].as_matrix(), algorithm='chow-liu', n_jobs=-1)\n"
   ]
  },
  {
   "cell_type": "code",
   "execution_count": 50,
   "metadata": {},
   "outputs": [],
   "source": [
    "types = [type_1, type_2, type_3, type_4, type_5, type_6, type_7, type_8, type_9, type_10]"
   ]
  },
  {
   "cell_type": "code",
   "execution_count": 26,
   "metadata": {},
   "outputs": [
    {
     "data": {
      "image/png": "[encoded data removed]",
      "text/plain": [
       "<Figure size 7200x720 with 1 Axes>"
      ]
     },
     "metadata": {
      "needs_background": "light"
     },
     "output_type": "display_data"
    }
   ],
   "source": [
    "plt.figure(figsize=(100, 10))\n",
    "auto_chow_net.plot()"
   ]
  },
  {
   "cell_type": "code",
   "execution_count": null,
   "metadata": {},
   "outputs": [],
   "source": [
    "def run_model_auto_chow_mat(type_q, test_dum=test_dum, n_rows=30):\n",
    "    select_cols = np.array(col_order)[type_q]\n",
    "    test_dum2 = test_dum.copy()\n",
    "    problem_dum = test_dum2.copy()\n",
    "    problem_dum[select_cols] = None\n",
    "    problem_mat = problem_dum.as_matrix()\n",
    "    result = auto_chow_net.predict(problem_mat[:n_rows, :], n_jobs=-1)\n",
    "    n_incorrect = np.sum(test_dum2.as_matrix()[:n_rows,:] != np.matrix(result))\n",
    "    n_total = n_rows * len(type_q)\n",
    "#     dic = dict()\n",
    "#     dic[type_q] = \n",
    "    return (type_q, (n_total - n_incorrect) / n_total)"
   ]
  },
  {
   "cell_type": "code",
   "execution_count": 29,
   "metadata": {
    "scrolled": true
   },
   "outputs": [
    {
     "name": "stderr",
     "output_type": "stream",
     "text": [
      "/Users/youngjun/anaconda3/lib/python3.7/site-packages/ipykernel_launcher.py:6: FutureWarning: Method .as_matrix will be removed in a future version. Use .values instead.\n",
      "  \n",
      "/Users/youngjun/anaconda3/lib/python3.7/site-packages/ipykernel_launcher.py:8: FutureWarning: Method .as_matrix will be removed in a future version. Use .values instead.\n",
      "  \n"
     ]
    }
   ],
   "source": [
    "result_arr = [run_model_auto_chow_mat(type_q) for type_q in types]\n"
   ]
  },
  {
   "cell_type": "code",
   "execution_count": 30,
   "metadata": {},
   "outputs": [
    {
     "data": {
      "text/plain": [
       "[([7, 8, 16, 33, 21, 22, 23, 24, 25, 26, 19, 20, 27, 28, 29, 30, 31],\n",
       "  0.3196078431372549),\n",
       " ([9, 10, 11, 35], 0.7),\n",
       " ([1, 9, 10, 33], 0.5333333333333333),\n",
       " ([1, 10, 11, 12, 33, 35], 0.5777777777777777),\n",
       " ([12, 13, 14, 15, 34], 0.6666666666666666),\n",
       " ([12, 13, 14, 34], 0.6333333333333333),\n",
       " ([12, 13, 15, 34], 0.7),\n",
       " ([0, 14, 33, 34], 0.5416666666666666),\n",
       " ([0, 13, 33], 0.6888888888888889),\n",
       " ([8, 16, 33, 21, 22, 23, 24, 25, 26, 19, 20, 27, 28, 29, 30, 31],\n",
       "  0.3458333333333333)]"
      ]
     },
     "execution_count": 30,
     "metadata": {},
     "output_type": "execute_result"
    }
   ],
   "source": [
    "result_arr"
   ]
  },
  {
   "cell_type": "markdown",
   "metadata": {},
   "source": [
    "### binning3"
   ]
  },
  {
   "cell_type": "code",
   "execution_count": 32,
   "metadata": {},
   "outputs": [
    {
     "data": {
      "text/plain": [
       "(25037, 38)"
      ]
     },
     "execution_count": 32,
     "metadata": {},
     "output_type": "execute_result"
    }
   ],
   "source": [
    "df_binned = binning3(df_concat)\n",
    "df_binned.shape"
   ]
  },
  {
   "cell_type": "code",
   "execution_count": 34,
   "metadata": {},
   "outputs": [
    {
     "data": {
      "text/plain": [
       "(25037, 38)"
      ]
     },
     "execution_count": 34,
     "metadata": {},
     "output_type": "execute_result"
    }
   ],
   "source": [
    "cat_mapping_set = get_cat_mapping_set(df_binned)\n",
    "df_encoded = encode_df(df_binned, cat_mapping_set)\n",
    "\n",
    "df_encoded.shape"
   ]
  },
  {
   "cell_type": "code",
   "execution_count": 35,
   "metadata": {},
   "outputs": [
    {
     "data": {
      "text/plain": [
       "((20029, 38), (5008, 38))"
      ]
     },
     "execution_count": 35,
     "metadata": {},
     "output_type": "execute_result"
    }
   ],
   "source": [
    "test = df_encoded.loc[df_encoded.type == 'test']\n",
    "train = df_encoded.loc[df_encoded.type == 'train']\n",
    "\n",
    "train.shape, test.shape"
   ]
  },
  {
   "cell_type": "code",
   "execution_count": 36,
   "metadata": {},
   "outputs": [],
   "source": [
    "train.drop(columns=['type'], inplace=True)\n",
    "test.drop(columns=['type'], inplace=True)"
   ]
  },
  {
   "cell_type": "code",
   "execution_count": 40,
   "metadata": {},
   "outputs": [],
   "source": [
    "train_dum = train[col_order]\n",
    "test_dum = test[col_order]"
   ]
  },
  {
   "cell_type": "code",
   "execution_count": 48,
   "metadata": {},
   "outputs": [],
   "source": [
    "for col in col_order:\n",
    "    diff_arr = np.setdiff1d(test_dum[col].unique(), train_dum[col].unique())\n",
    "    test_dum = test_dum.loc[~test_dum[col].isin(diff_arr),:]"
   ]
  },
  {
   "cell_type": "code",
   "execution_count": 49,
   "metadata": {},
   "outputs": [
    {
     "name": "stderr",
     "output_type": "stream",
     "text": [
      "/Users/youngjun/anaconda3/lib/python3.7/site-packages/ipykernel_launcher.py:1: FutureWarning: Method .as_matrix will be removed in a future version. Use .values instead.\n",
      "  \"\"\"Entry point for launching an IPython kernel.\n"
     ]
    }
   ],
   "source": [
    "auto_chow_net = BayesianNetwork.from_samples(train_dum.iloc[:,:].as_matrix(), algorithm='chow-liu', n_jobs=-1)\n"
   ]
  },
  {
   "cell_type": "code",
   "execution_count": 51,
   "metadata": {},
   "outputs": [],
   "source": [
    "types = [type_1, type_2, type_3, type_4, type_5, type_6, type_7, type_8, type_9, type_10]"
   ]
  },
  {
   "cell_type": "code",
   "execution_count": 52,
   "metadata": {},
   "outputs": [
    {
     "data": {
      "image/png": "[encoded data removed]",
      "text/plain": [
       "<Figure size 7200x720 with 1 Axes>"
      ]
     },
     "metadata": {
      "needs_background": "light"
     },
     "output_type": "display_data"
    }
   ],
   "source": [
    "plt.figure(figsize=(100, 10))\n",
    "auto_chow_net.plot()"
   ]
  },
  {
   "cell_type": "code",
   "execution_count": 54,
   "metadata": {},
   "outputs": [],
   "source": [
    "def run_model_auto_chow_mat(type_q, test_dum=test_dum, n_rows=30):\n",
    "    select_cols = np.array(col_order)[type_q]\n",
    "    test_dum2 = test_dum.copy()\n",
    "    problem_dum = test_dum2.copy()\n",
    "    problem_dum[select_cols] = None\n",
    "    problem_mat = problem_dum.as_matrix()\n",
    "    result = auto_chow_net.predict(problem_mat[:n_rows, :], n_jobs=-1)\n",
    "    n_incorrect = np.sum(test_dum2.as_matrix()[:n_rows,:] != np.matrix(result))\n",
    "    n_total = n_rows * len(type_q)\n",
    "#     dic = dict()\n",
    "#     dic[type_q] = \n",
    "    return (type_q, (n_total - n_incorrect) / n_total)"
   ]
  },
  {
   "cell_type": "code",
   "execution_count": 55,
   "metadata": {},
   "outputs": [
    {
     "name": "stderr",
     "output_type": "stream",
     "text": [
      "/Users/youngjun/anaconda3/lib/python3.7/site-packages/ipykernel_launcher.py:6: FutureWarning: Method .as_matrix will be removed in a future version. Use .values instead.\n",
      "  \n",
      "/Users/youngjun/anaconda3/lib/python3.7/site-packages/ipykernel_launcher.py:8: FutureWarning: Method .as_matrix will be removed in a future version. Use .values instead.\n",
      "  \n"
     ]
    }
   ],
   "source": [
    "result_arr = [run_model_auto_chow_mat(type_q) for type_q in types]\n"
   ]
  },
  {
   "cell_type": "code",
   "execution_count": 56,
   "metadata": {},
   "outputs": [
    {
     "data": {
      "text/plain": [
       "[([7, 8, 16, 33, 21, 22, 23, 24, 25, 26, 19, 20, 27, 28, 29, 30, 31],\n",
       "  0.5725490196078431),\n",
       " ([9, 10, 11, 35], 0.8416666666666667),\n",
       " ([1, 9, 10, 33], 0.6833333333333333),\n",
       " ([1, 10, 11, 12, 33, 35], 0.7666666666666667),\n",
       " ([12, 13, 14, 15, 34], 0.8133333333333334),\n",
       " ([12, 13, 14, 34], 0.8166666666666667),\n",
       " ([12, 13, 15, 34], 0.8833333333333333),\n",
       " ([0, 14, 33, 34], 0.7916666666666666),\n",
       " ([0, 13, 33], 0.8777777777777778),\n",
       " ([8, 16, 33, 21, 22, 23, 24, 25, 26, 19, 20, 27, 28, 29, 30, 31], 0.60625)]"
      ]
     },
     "execution_count": 56,
     "metadata": {},
     "output_type": "execute_result"
    }
   ],
   "source": [
    "result_arr"
   ]
  },
  {
   "cell_type": "code",
   "execution_count": 59,
   "metadata": {},
   "outputs": [
    {
     "data": {
      "text/plain": [
       "Index(['주야', '요일', '사망자수', '사상자수', '중상자수', '경상자수', '부상신고자수', '발생지시도', '발생지시군구',\n",
       "       '사고유형_대분류', '사고유형_중분류', '법규위반', '도로형태_대분류', '도로형태', '당사자종별_1당_대분류',\n",
       "       '당사자종별_2당_대분류', '발생지', '총길이', '제한속도', '무단횡단피해', '무단횡단건수', '노인피해',\n",
       "       '노인건수', '어린이피해', '어린이건수', '자전거피해', '자전거건수', '학교피해', '학교건수',\n",
       "       '요일_사고유형_NMF1', '요일_사고유형_NMF2', '요일_사고유형_NMF3', '발생지시군구_위험도',\n",
       "       '발생지시도x요일x주야_위험도', '차량조합_위험도', '사고유형_위험도', '위험도평균'],\n",
       "      dtype='object')"
      ]
     },
     "execution_count": 59,
     "metadata": {},
     "output_type": "execute_result"
    }
   ],
   "source": [
    "train_dum.columns"
   ]
  },
  {
   "cell_type": "code",
   "execution_count": null,
   "metadata": {},
   "outputs": [],
   "source": [
    "# 입력 변수: 주야, 요일, 발생지시도, 발생지시군구, 차량 대분류 -> 발생지, 총길이, 제한속도, 무단횡단피해, 무단횡단건수, 노인피해, 노인건수, 어린이피해, 어린이건수,. 자전거피해,자전거건수,학교피해,학교건수, 발생지시군구 위험도 발생지시도 요일 주야 위험도\n",
    "# 추가 변수: 법규위반, 도로형태 대분류, 도로형태, \n",
    "# 피룡없음: 당사자종별 1당, 2당 대분류, nmf123변수\n",
    "\n",
    "#입력변수 입력받으면\n",
    "#1. 내가 사고 냈을 때 : 상대 차종별 차량조합 위험도 get/위험도 평균 get\n",
    "#2. 내가 사고 당했을 때: 상대 차종별 차량조합 위험도 get/위험도 평균 get\n",
    "\n",
    "# 카테고리 다 get 한 후, 사상자수 추정 by randomforest + knn\n",
    "\n"
   ]
  }
 ],
 "metadata": {
  "kernelspec": {
   "display_name": "Python 3",
   "language": "python",
   "name": "python3"
  },
  "language_info": {
   "codemirror_mode": {
    "name": "ipython",
    "version": 3
   },
   "file_extension": ".py",
   "mimetype": "text/x-python",
   "name": "python",
   "nbconvert_exporter": "python",
   "pygments_lexer": "ipython3",
   "version": "3.7.3"
  }
 },
 "nbformat": 4,
 "nbformat_minor": 2
}
