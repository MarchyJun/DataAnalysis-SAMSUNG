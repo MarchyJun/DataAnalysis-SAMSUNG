{
 "cells": [
  {
   "cell_type": "markdown",
   "metadata": {},
   "source": [
    "# 필요 데이터 생성하기"
   ]
  },
  {
   "cell_type": "code",
   "execution_count": 1,
   "metadata": {},
   "outputs": [],
   "source": [
    "import numpy as np\n",
    "import pandas as pd\n",
    "from sklearn.decomposition import NMF"
   ]
  },
  {
   "cell_type": "markdown",
   "metadata": {},
   "source": [
    "### 1. 위험도 데이터 생성"
   ]
  },
  {
   "cell_type": "code",
   "execution_count": 4,
   "metadata": {},
   "outputs": [],
   "source": [
    "df = pd.read_csv('Data/교통사망사고정보/original_kor.csv',encoding='CP949',engine='python')\n",
    "\n",
    "# temp) 총부상자수 변수\n",
    "df['총부상자수'] = df['사상자수'] - df['사망자수']\n",
    "\n",
    "# 발생지시군구_위험도\n",
    "total= df.groupby(['발생지시도','발생지시군구']).count().주야.sort_index()\n",
    "a = df.groupby(['발생지시도','발생지시군구']).sum().사망자수.sort_index()\n",
    "b = df.groupby(['발생지시도','발생지시군구']).sum().총부상자수.sort_index()\n",
    "temp=(a*12+b*3)/total\n",
    "\n",
    "for i,j in temp.index:\n",
    "    df.loc[(df.발생지시도==i)&(df.발생지시군구==j),'발생지시군구_위험도'] = temp[i,j]\n",
    "\n",
    "\n",
    "\n",
    "# 발생지시도x요일x주야_위험도\n",
    "total = df.groupby(['발생지시도','요일','주야']).count().도로형태.sort_index()\n",
    "a = df.groupby(['발생지시도','요일','주야']).sum().사망자수.sort_index()\n",
    "b = df.groupby(['발생지시도','요일','주야']).sum().총부상자수.sort_index()\n",
    "temp = (a*12+b*3)/total\n",
    "\n",
    "for i,j,k in temp.index:\n",
    "    df.loc[(df.발생지시도==i)&(df.요일==j)&(df.주야==k),'발생지시도x요일x주야_위험도'] = temp[i,j,k]\n",
    "\n",
    "# 차량조합_위험도\n",
    "total = df.groupby(['당사자종별_1당_대분류','당사자종별_2당_대분류']).count().사고유형_중분류\n",
    "a = df.groupby(['당사자종별_1당_대분류','당사자종별_2당_대분류']).sum().사망자수.sort_index()\n",
    "b = df.groupby(['당사자종별_1당_대분류','당사자종별_2당_대분류']).sum().총부상자수.sort_index()\n",
    "temp = (a*12+b*3)/total\n",
    "\n",
    "for i,j in temp.index:\n",
    "    df.loc[(df.당사자종별_1당_대분류==i)&(df.당사자종별_2당_대분류==j),'차량조합_위험도'] = temp[i,j]\n",
    "\n",
    "# 사고유형_위험도\n",
    "total = df.groupby(['사고유형_중분류']).count().당사자종별_1당_대분류\n",
    "a = df.groupby(['사고유형_중분류']).sum().사망자수.sort_index()\n",
    "b = df.groupby(['사고유형_중분류']).sum().총부상자수.sort_index()\n",
    "temp = (a*12+b*3)/total\n",
    "\n",
    "for i in temp.index:\n",
    "    df.loc[(df.사고유형_중분류==i),'사고유형_위험도'] = temp[i]\n",
    "\n",
    "\n",
    "temp = df[['발생지시도','발생지시군구','요일','주야','당사자종별_1당_대분류','당사자종별_2당_대분류',\n",
    "   '사고유형_중분류','발생지시군구_위험도','발생지시도x요일x주야_위험도','차량조합_위험도',\n",
    "   '사고유형_위험도']]\n",
    "\n",
    "temp.to_csv('Data/plus_danger.csv',encoding='CP949',index=False)"
   ]
  },
  {
   "cell_type": "markdown",
   "metadata": {},
   "source": [
    "### 2. NMF 데이터 생성"
   ]
  },
  {
   "cell_type": "code",
   "execution_count": 6,
   "metadata": {},
   "outputs": [],
   "source": [
    "df = pd.read_csv('Data/교통사망사고정보/original_kor.csv',encoding='CP949',engine='python')\n",
    "\n",
    "df['발생지'] = df['발생지시도'] + df['발생지시군구']\n",
    "df['발생지'].replace('경남창원시(통합)','경남창원시', inplace=True)\n",
    "\n",
    "df['요일/사고유형_중'] = df['요일'] + '_'+df['사고유형_중분류']\n",
    "\n",
    "day_acc = df.groupby(['발생지','요일/사고유형_중'])['주야'].count().unstack().fillna(0)\n",
    "\n",
    "X = day_acc.values\n",
    "\n",
    "model = NMF(n_components=3, init='random', random_state=0)\n",
    "W = model.fit_transform(X)\n",
    "df_nmf = pd.DataFrame(W)\n",
    "df_nmf.rename(columns={0:'day_acc_nmf1',1:'day_acc_nmf2',2:'day_acc_nmf3'}, inplace=True)\n",
    "df_nmf = df_nmf.join(pd.DataFrame(day_acc.index))\n",
    "\n",
    "df = df.merge(df_nmf, on='발생지')\n",
    "df.drop('요일/사고유형_중',axis=1,inplace=True)\n",
    "\n",
    "temp = df[['day_acc_nmf1','day_acc_nmf2','day_acc_nmf3','발생지']]\n",
    "\n",
    "temp.columns = ['요일_사고유형_NMF1','요일_사고유형_NMF2','요일_사고유형_NMF3','발생지']\n",
    "temp = temp.groupby('발생지').mean()\n",
    "temp.to_csv('Data/plus_nmf.csv',encoding='CP949',index=True)"
   ]
  },
  {
   "cell_type": "markdown",
   "metadata": {},
   "source": [
    "### 3. 사고다발지 데이터 생성"
   ]
  },
  {
   "cell_type": "code",
   "execution_count": 7,
   "metadata": {},
   "outputs": [],
   "source": [
    "## 사고다발지 데이터 생성\n",
    "\n",
    "df_jaywalk = pd.read_csv('Data/보조데이터/무단횡단사고다발지(2012~2016).csv',encoding='CP949',engine='python')\n",
    "df_elder = pd.read_csv('Data/보조데이터/보행노인사고다발지(2012~2016).csv',encoding='CP949',engine='python')\n",
    "df_child = pd.read_csv('Data/보조데이터/보행어린이사고다발지(2012~2016).csv',encoding='CP949',engine='python')\n",
    "df_school = pd.read_csv('Data/보조데이터/스쿨존내어린이사고다발지(2012~2016).csv',encoding='CP949',engine='python')\n",
    "df_bike = pd.read_csv('Data/보조데이터/자전거사고다발지(2012~2016).csv',encoding='CP949',engine='python')\n",
    "\n",
    "df_jaywalk[\"사고피해정도\"] = df_jaywalk.사망자수*4 + df_jaywalk.중상자수*3 + df_jaywalk.경상자수*2 + df_jaywalk.부상신고자수*1\n",
    "df_elder[\"사고피해정도\"] = df_elder.사망자수*4 + df_elder.중상자수*3 + df_elder.경상자수*2 + df_elder.부상신고자수*1\n",
    "df_child[\"사고피해정도\"] = df_child.사망자수*4 + df_child.중상자수*3 + df_child.경상자수*2 + df_child.부상신고자수*1\n",
    "df_bike[\"사고피해정도\"] = df_bike.사망자수*4 + df_bike.중상자수*3 + df_bike.경상자수*2 + df_bike.부상신고자수*1\n",
    "df_school[\"사고피해정도\"] = df_school.사망자수*4 + df_school.중상자수*3 + df_school.경상자수*2 + df_school.부상신고자수*1\n",
    "\n",
    "def replace_region(df):    \n",
    "    df = df.groupby('다발지명').agg({'사고피해정도': 'sum', '발생건수':'sum'})\n",
    "    df.reset_index(inplace=True)\n",
    "    df['시도'] = df['다발지명'].apply(lambda x: x.split(' ')[0])\n",
    "    df['시군구'] = df['다발지명'].apply(lambda x: x.split(' ')[1])\n",
    "    df['시도'].replace(['경상남도', '경상북도', '전라남도', '전라북도', '충청남도', '충청북도'],\n",
    "                                   ['경남', '경북', '전남', '전북', '충남', '충북'], inplace=True)\n",
    "    df['시도'] = df['시도'].apply(lambda x: x[:2])\n",
    "    df.drop('다발지명', axis=1, inplace=True)\n",
    "    df['시군구'].replace('세종특별자치시','세종', inplace=True)\n",
    "    df['발생지'] = df['시도'] + df['시군구']\n",
    "    df = df.groupby(['발생지'])['사고피해정도', '발생건수'].sum()\n",
    "    df.reset_index(inplace=True)\n",
    "    return df\n",
    "    \n",
    "walk_list = ['Data/plus_mudan','Data/plus_old','Data/plus_child','Data/plus_school','Data/plus_bic']\n",
    "i = 0\n",
    "for x in [df_jaywalk, df_elder, df_child, df_school, df_bike]:\n",
    "    df = replace_region(x)\n",
    "    df.to_csv(walk_list[i]+'.csv',index=False)\n",
    "    i += 1"
   ]
  },
  {
   "cell_type": "markdown",
   "metadata": {},
   "source": [
    "# 피쳐추가하기"
   ]
  },
  {
   "cell_type": "code",
   "execution_count": 10,
   "metadata": {},
   "outputs": [],
   "source": [
    "## 기존 데이터 불러오기 ###\n",
    "df = pd.read_csv('Data/교통사망사고정보/original_kor.csv',encoding='CP949',engine='python')\n",
    "df = df[['주야', '요일', '사망자수', '사상자수', '중상자수', '경상자수', '부상신고자수', '발생지시도', '발생지시군구',\n",
    "       '사고유형_대분류', '사고유형_중분류', '법규위반', '도로형태_대분류', '도로형태', '당사자종별_1당_대분류',\n",
    "       '당사자종별_2당_대분류']]\n",
    "\n",
    "\n",
    "### 추가 데이터 불러오기 ###\n",
    "# 고속도로 데이터 #\n",
    "highway = pd.read_csv('Data/plus_highway.csv',encoding='CP949')\n",
    "highway['총길이']=np.float64(highway.총길이)\n",
    "\n",
    "# 사고다발지 데이터 #\n",
    "jaywalk = pd.read_csv('Data/plus_mudan.csv')\n",
    "elder = pd.read_csv('Data/plus_old.csv')\n",
    "child = pd.read_csv('Data/plus_child.csv')\n",
    "bike = pd.read_csv('Data/plus_bic.csv')\n",
    "school = pd.read_csv('Data/plus_school.csv')\n",
    "\n",
    "jaywalk.columns = ['발생지', '무단횡단피해', '무단횡단건수']\n",
    "elder.columns = ['발생지', '노인피해', '노인건수']\n",
    "child.columns = ['발생지', '어린이피해', '어린이건수']\n",
    "bike.columns = ['발생지', '자전거피해', '자전거건수']\n",
    "school.columns = ['발생지', '학교피해', '학교건수']\n",
    "\n",
    "# 위험도 데이터 #\n",
    "danger = pd.read_csv('Data/plus_danger.csv',encoding='CP949')\n",
    "\n",
    "# nmf 데이터 #\n",
    "nmf = pd.read_csv('Data/plus_nmf.csv',encoding='CP949')"
   ]
  },
  {
   "cell_type": "code",
   "execution_count": 11,
   "metadata": {},
   "outputs": [],
   "source": [
    "### 기존데이터 전처리 ###\n",
    "\n",
    "df.loc[df.발생지시군구=='연기군','발생지시군구']='세종'\n",
    "df.loc[(df.발생지시도=='충남')&(df.발생지시군구=='세종'),'발생지시도']='세종'\n",
    "\n",
    "# 충북 청원군 -> 충북 청주시 변경 (14년 7월)\n",
    "df.loc[df.발생지시군구=='청원군','발생지시군구']='청주시'\n",
    "    \n",
    "#발생지 변수\n",
    "df['발생지']=df['발생지시도']+df['발생지시군구']\n",
    "df['발생지'].replace('경남창원시(통합)','경남창원시',inplace=True)"
   ]
  },
  {
   "cell_type": "code",
   "execution_count": 12,
   "metadata": {},
   "outputs": [],
   "source": [
    "def change(df, highway, jaywalk, elder, child, bike, school, danger, nmf ):\n",
    "    ### 고속도로데이터 ###\n",
    "    df=pd.merge(df,highway,on='발생지',how='left')\n",
    "\n",
    "    ### 사고다발지데이터 ###\n",
    "    for x in  [jaywalk, elder, child, bike, school]:\n",
    "        df = df.merge(x, on='발생지', how='left')\n",
    "    df.drop(df[(df.주야.isnull())&(df.요일.isnull())].index,inplace=True)\n",
    "\n",
    "    df.loc[(df.발생지.isnull()==False) & (df.무단횡단피해.isnull()==True), ['무단횡단피해', '무단횡단건수']]=0\n",
    "    df.loc[(df.발생지.isnull()==False) & (df.노인피해.isnull()==True), ['노인피해', '노인건수']]=0\n",
    "    df.loc[(df.발생지.isnull()==False) & (df.어린이피해.isnull()==True), ['어린이피해','어린이건수']]=0\n",
    "    df.loc[(df.발생지.isnull()==False) & (df.자전거피해.isnull()==True), ['자전거피해','자전거건수']]=0\n",
    "    df.loc[(df.발생지.isnull()==False) & (df.학교피해.isnull()==True), ['학교피해','학교건수']]=0\n",
    "    \n",
    "    ### nmf 데이터 ###\n",
    "    df = df.merge(nmf, on='발생지',how='left')\n",
    "\n",
    "    ### 위험도 데이터 ###\n",
    "    # 발생지시군구 위험도\n",
    "    temp = danger.groupby(['발생지시도','발생지시군구']).mean().발생지시군구_위험도\n",
    "    for i,j in temp.index:\n",
    "        df.loc[(df.발생지시도==i)&(df.발생지시군구==j),'발생지시군구_위험도'] = temp[i,j]\n",
    "\n",
    "    # 발생지시도x요일x주야 위험도\n",
    "    temp = danger.groupby(['발생지시도','요일','주야']).mean().발생지시도x요일x주야_위험도\n",
    "    for i,j,k in temp.index:\n",
    "        df.loc[(df.발생지시도==i)&(df.요일==j)&(df.주야==k),'발생지시도x요일x주야_위험도'] = temp[i,j,k]\n",
    "\n",
    "    # 차량조합 위험도\n",
    "    temp = danger.groupby(['당사자종별_1당_대분류','당사자종별_2당_대분류']).mean().차량조합_위험도\n",
    "    for i,j in temp.index:\n",
    "        df.loc[(df.당사자종별_1당_대분류==i)&(df.당사자종별_2당_대분류==j),'차량조합_위험도'] = temp[i,j]\n",
    "\n",
    "    # 사고유형 위험도\n",
    "    temp = danger.groupby(['사고유형_중분류']).mean().사고유형_위험도\n",
    "    for i in temp.index:\n",
    "        df.loc[(df.사고유형_중분류==i),'사고유형_위험도'] = temp[i]\n",
    "\n",
    "    # 사고위험 평균\n",
    "    df['위험도평균'] = np.nanmean(np.array(df[['발생지시군구_위험도','발생지시도x요일x주야_위험도','차량조합_위험도','사고유형_위험도']]),axis=1)\n",
    "\n",
    "    \n",
    "    return df"
   ]
  },
  {
   "cell_type": "code",
   "execution_count": 13,
   "metadata": {},
   "outputs": [],
   "source": [
    "df = change(df, highway, jaywalk, elder, child, bike, school, danger, nmf )"
   ]
  }
 ],
 "metadata": {
  "kernelspec": {
   "display_name": "Python 3",
   "language": "python",
   "name": "python3"
  },
  "language_info": {
   "codemirror_mode": {
    "name": "ipython",
    "version": 3
   },
   "file_extension": ".py",
   "mimetype": "text/x-python",
   "name": "python",
   "nbconvert_exporter": "python",
   "pygments_lexer": "ipython3",
   "version": "3.7.3"
  }
 },
 "nbformat": 4,
 "nbformat_minor": 2
}
